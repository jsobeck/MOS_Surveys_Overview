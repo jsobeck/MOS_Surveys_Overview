{
 "cells": [
  {
   "cell_type": "markdown",
   "id": "e39a18b7",
   "metadata": {},
   "source": [
    "# Overview of Past, Current, Future MOS Survey Projects: Interactive Plots"
   ]
  },
  {
   "cell_type": "markdown",
   "id": "1914176c",
   "metadata": {},
   "source": [
    "Data scrapping was performed to gather information regarding various MOS Projects.  The associated tabular data are stored in csv files.  The notebook below presents interactive plots/visualizations generated with the pandas, matplotlib, and *plotly* libraries."
   ]
  },
  {
   "cell_type": "markdown",
   "id": "ad690acc",
   "metadata": {},
   "source": [
    "## Import Necessary Python Packages/Libraries and Set Options"
   ]
  },
  {
   "cell_type": "code",
   "execution_count": 1,
   "id": "d3381792",
   "metadata": {},
   "outputs": [],
   "source": [
    "import pandas as pd\n",
    "import pint # pandas utility to add units\n",
    "pd.set_option(\"display.max.columns\", None)\n",
    "import numpy as np\n",
    "import matplotlib.pyplot as plt \n",
    "#for plotting display purposes in jupyter notebook\n",
    "%matplotlib inline  \n",
    "# Employ plotly graphing/visualization package"
   ]
  },
  {
   "cell_type": "markdown",
   "id": "2c925f9b",
   "metadata": {},
   "source": [
    "## Import Plotly Libraries\n",
    "Plotly Express can generate most of the requisite visualizations."
   ]
  },
  {
   "cell_type": "code",
   "execution_count": 2,
   "id": "630b81fa",
   "metadata": {},
   "outputs": [],
   "source": [
    "import plotly.express as px\n",
    "import plotly.graph_objects as go "
   ]
  },
  {
   "cell_type": "markdown",
   "id": "ce7c92cf",
   "metadata": {},
   "source": [
    "## Ingest MOS Project Tabular Data"
   ]
  },
  {
   "cell_type": "code",
   "execution_count": 17,
   "id": "6d80c919",
   "metadata": {},
   "outputs": [
    {
     "data": {
      "text/html": [
       "<style type=\"text/css\">\n",
       "</style>\n",
       "<table id=\"T_d2f32\">\n",
       "  <thead>\n",
       "    <tr>\n",
       "      <th id=\"T_d2f32_level0_col0\" class=\"col_heading level0 col0\" >Instrument</th>\n",
       "      <th id=\"T_d2f32_level0_col1\" class=\"col_heading level0 col1\" >Instr_short</th>\n",
       "      <th id=\"T_d2f32_level0_col2\" class=\"col_heading level0 col2\" >Facility</th>\n",
       "      <th id=\"T_d2f32_level0_col3\" class=\"col_heading level0 col3\" >Hemisphere</th>\n",
       "      <th id=\"T_d2f32_level0_col4\" class=\"col_heading level0 col4\" >Status</th>\n",
       "      <th id=\"T_d2f32_level0_col5\" class=\"col_heading level0 col5\" >Operations_Start</th>\n",
       "      <th id=\"T_d2f32_level0_col6\" class=\"col_heading level0 col6\" >M1_Aperture_m</th>\n",
       "      <th id=\"T_d2f32_level0_col7\" class=\"col_heading level0 col7\" >FOV_deg2</th>\n",
       "      <th id=\"T_d2f32_level0_col8\" class=\"col_heading level0 col8\" >Fiber_Number</th>\n",
       "      <th id=\"T_d2f32_level0_col9\" class=\"col_heading level0 col9\" >Spectral Coverage</th>\n",
       "      <th id=\"T_d2f32_level0_col10\" class=\"col_heading level0 col10\" >Resolution_Mode</th>\n",
       "      <th id=\"T_d2f32_level0_col11\" class=\"col_heading level0 col11\" >Wavelength_Coverage_Regimes_nm</th>\n",
       "      <th id=\"T_d2f32_level0_col12\" class=\"col_heading level0 col12\" >WL_MIN_nm</th>\n",
       "      <th id=\"T_d2f32_level0_col13\" class=\"col_heading level0 col13\" >WL_MAX_nm</th>\n",
       "      <th id=\"T_d2f32_level0_col14\" class=\"col_heading level0 col14\" >WL_Coverage_Type</th>\n",
       "      <th id=\"T_d2f32_level0_col15\" class=\"col_heading level0 col15\" >Spectral Resolution Settings</th>\n",
       "      <th id=\"T_d2f32_level0_col16\" class=\"col_heading level0 col16\" >R_MIN</th>\n",
       "      <th id=\"T_d2f32_level0_col17\" class=\"col_heading level0 col17\" >R_MAX</th>\n",
       "      <th id=\"T_d2f32_level0_col18\" class=\"col_heading level0 col18\" >Collecting_Area_m2</th>\n",
       "      <th id=\"T_d2f32_level0_col19\" class=\"col_heading level0 col19\" >Etendue</th>\n",
       "    </tr>\n",
       "  </thead>\n",
       "  <tbody>\n",
       "    <tr>\n",
       "      <td id=\"T_d2f32_row0_col0\" class=\"data row0 col0\" >LAMOST</td>\n",
       "      <td id=\"T_d2f32_row0_col1\" class=\"data row0 col1\" >LAMOST</td>\n",
       "      <td id=\"T_d2f32_row0_col2\" class=\"data row0 col2\" >Guoshoujing</td>\n",
       "      <td id=\"T_d2f32_row0_col3\" class=\"data row0 col3\" >N</td>\n",
       "      <td id=\"T_d2f32_row0_col4\" class=\"data row0 col4\" >Current</td>\n",
       "      <td id=\"T_d2f32_row0_col5\" class=\"data row0 col5\" >2012</td>\n",
       "      <td id=\"T_d2f32_row0_col6\" class=\"data row0 col6\" >4.00</td>\n",
       "      <td id=\"T_d2f32_row0_col7\" class=\"data row0 col7\" >19.60</td>\n",
       "      <td id=\"T_d2f32_row0_col8\" class=\"data row0 col8\" >4000</td>\n",
       "      <td id=\"T_d2f32_row0_col9\" class=\"data row0 col9\" >VIS</td>\n",
       "      <td id=\"T_d2f32_row0_col10\" class=\"data row0 col10\" >LOW</td>\n",
       "      <td id=\"T_d2f32_row0_col11\" class=\"data row0 col11\" >370-900</td>\n",
       "      <td id=\"T_d2f32_row0_col12\" class=\"data row0 col12\" >370.00</td>\n",
       "      <td id=\"T_d2f32_row0_col13\" class=\"data row0 col13\" >900.00</td>\n",
       "      <td id=\"T_d2f32_row0_col14\" class=\"data row0 col14\" >continuous</td>\n",
       "      <td id=\"T_d2f32_row0_col15\" class=\"data row0 col15\" >500;1000;1500</td>\n",
       "      <td id=\"T_d2f32_row0_col16\" class=\"data row0 col16\" >500.00</td>\n",
       "      <td id=\"T_d2f32_row0_col17\" class=\"data row0 col17\" >1500.00</td>\n",
       "      <td id=\"T_d2f32_row0_col18\" class=\"data row0 col18\" >18.86</td>\n",
       "      <td id=\"T_d2f32_row0_col19\" class=\"data row0 col19\" >369.66</td>\n",
       "    </tr>\n",
       "    <tr>\n",
       "      <td id=\"T_d2f32_row1_col0\" class=\"data row1 col0\" >HERMES</td>\n",
       "      <td id=\"T_d2f32_row1_col1\" class=\"data row1 col1\" >HERMES</td>\n",
       "      <td id=\"T_d2f32_row1_col2\" class=\"data row1 col2\" >AAT</td>\n",
       "      <td id=\"T_d2f32_row1_col3\" class=\"data row1 col3\" >S</td>\n",
       "      <td id=\"T_d2f32_row1_col4\" class=\"data row1 col4\" >Current</td>\n",
       "      <td id=\"T_d2f32_row1_col5\" class=\"data row1 col5\" >2014</td>\n",
       "      <td id=\"T_d2f32_row1_col6\" class=\"data row1 col6\" >3.90</td>\n",
       "      <td id=\"T_d2f32_row1_col7\" class=\"data row1 col7\" >3.10</td>\n",
       "      <td id=\"T_d2f32_row1_col8\" class=\"data row1 col8\" >392</td>\n",
       "      <td id=\"T_d2f32_row1_col9\" class=\"data row1 col9\" >VIS</td>\n",
       "      <td id=\"T_d2f32_row1_col10\" class=\"data row1 col10\" >HIGH</td>\n",
       "      <td id=\"T_d2f32_row1_col11\" class=\"data row1 col11\" >471.5-490.0;564.9-587.3;647.8-673.7;758.5-788.7</td>\n",
       "      <td id=\"T_d2f32_row1_col12\" class=\"data row1 col12\" >471.50</td>\n",
       "      <td id=\"T_d2f32_row1_col13\" class=\"data row1 col13\" >788.70</td>\n",
       "      <td id=\"T_d2f32_row1_col14\" class=\"data row1 col14\" >discontinuous</td>\n",
       "      <td id=\"T_d2f32_row1_col15\" class=\"data row1 col15\" >28000</td>\n",
       "      <td id=\"T_d2f32_row1_col16\" class=\"data row1 col16\" >28000.00</td>\n",
       "      <td id=\"T_d2f32_row1_col17\" class=\"data row1 col17\" >28000.00</td>\n",
       "      <td id=\"T_d2f32_row1_col18\" class=\"data row1 col18\" >12.00</td>\n",
       "      <td id=\"T_d2f32_row1_col19\" class=\"data row1 col19\" >37.20</td>\n",
       "    </tr>\n",
       "    <tr>\n",
       "      <td id=\"T_d2f32_row2_col0\" class=\"data row2 col0\" >SDSS_5_APOGEE+BOSS</td>\n",
       "      <td id=\"T_d2f32_row2_col1\" class=\"data row2 col1\" >SDSS5_APO</td>\n",
       "      <td id=\"T_d2f32_row2_col2\" class=\"data row2 col2\" >APO</td>\n",
       "      <td id=\"T_d2f32_row2_col3\" class=\"data row2 col3\" >N</td>\n",
       "      <td id=\"T_d2f32_row2_col4\" class=\"data row2 col4\" >Current</td>\n",
       "      <td id=\"T_d2f32_row2_col5\" class=\"data row2 col5\" >2021</td>\n",
       "      <td id=\"T_d2f32_row2_col6\" class=\"data row2 col6\" >2.50</td>\n",
       "      <td id=\"T_d2f32_row2_col7\" class=\"data row2 col7\" >7.10</td>\n",
       "      <td id=\"T_d2f32_row2_col8\" class=\"data row2 col8\" >500</td>\n",
       "      <td id=\"T_d2f32_row2_col9\" class=\"data row2 col9\" >VIS</td>\n",
       "      <td id=\"T_d2f32_row2_col10\" class=\"data row2 col10\" >LOW</td>\n",
       "      <td id=\"T_d2f32_row2_col11\" class=\"data row2 col11\" >360-1040</td>\n",
       "      <td id=\"T_d2f32_row2_col12\" class=\"data row2 col12\" >360.00</td>\n",
       "      <td id=\"T_d2f32_row2_col13\" class=\"data row2 col13\" >1040.00</td>\n",
       "      <td id=\"T_d2f32_row2_col14\" class=\"data row2 col14\" >continuous</td>\n",
       "      <td id=\"T_d2f32_row2_col15\" class=\"data row2 col15\" >1560-2270;1850-2650</td>\n",
       "      <td id=\"T_d2f32_row2_col16\" class=\"data row2 col16\" >1560.00</td>\n",
       "      <td id=\"T_d2f32_row2_col17\" class=\"data row2 col17\" >2650.00</td>\n",
       "      <td id=\"T_d2f32_row2_col18\" class=\"data row2 col18\" >3.68</td>\n",
       "      <td id=\"T_d2f32_row2_col19\" class=\"data row2 col19\" >26.13</td>\n",
       "    </tr>\n",
       "    <tr>\n",
       "      <td id=\"T_d2f32_row3_col0\" class=\"data row3 col0\" >SDSS_5_APOGEE+BOSS</td>\n",
       "      <td id=\"T_d2f32_row3_col1\" class=\"data row3 col1\" >SDSS5_APO</td>\n",
       "      <td id=\"T_d2f32_row3_col2\" class=\"data row3 col2\" >APO</td>\n",
       "      <td id=\"T_d2f32_row3_col3\" class=\"data row3 col3\" >N</td>\n",
       "      <td id=\"T_d2f32_row3_col4\" class=\"data row3 col4\" >Current</td>\n",
       "      <td id=\"T_d2f32_row3_col5\" class=\"data row3 col5\" >2021</td>\n",
       "      <td id=\"T_d2f32_row3_col6\" class=\"data row3 col6\" >2.50</td>\n",
       "      <td id=\"T_d2f32_row3_col7\" class=\"data row3 col7\" >7.10</td>\n",
       "      <td id=\"T_d2f32_row3_col8\" class=\"data row3 col8\" >500</td>\n",
       "      <td id=\"T_d2f32_row3_col9\" class=\"data row3 col9\" >NIR(H)</td>\n",
       "      <td id=\"T_d2f32_row3_col10\" class=\"data row3 col10\" >HIGH</td>\n",
       "      <td id=\"T_d2f32_row3_col11\" class=\"data row3 col11\" >1510-1700</td>\n",
       "      <td id=\"T_d2f32_row3_col12\" class=\"data row3 col12\" >1510.00</td>\n",
       "      <td id=\"T_d2f32_row3_col13\" class=\"data row3 col13\" >1710.00</td>\n",
       "      <td id=\"T_d2f32_row3_col14\" class=\"data row3 col14\" >continuous</td>\n",
       "      <td id=\"T_d2f32_row3_col15\" class=\"data row3 col15\" >22500</td>\n",
       "      <td id=\"T_d2f32_row3_col16\" class=\"data row3 col16\" >22500.00</td>\n",
       "      <td id=\"T_d2f32_row3_col17\" class=\"data row3 col17\" >22500.00</td>\n",
       "      <td id=\"T_d2f32_row3_col18\" class=\"data row3 col18\" >3.68</td>\n",
       "      <td id=\"T_d2f32_row3_col19\" class=\"data row3 col19\" >26.13</td>\n",
       "    </tr>\n",
       "    <tr>\n",
       "      <td id=\"T_d2f32_row4_col0\" class=\"data row4 col0\" >SDSS_5_APOGEE+BOSS</td>\n",
       "      <td id=\"T_d2f32_row4_col1\" class=\"data row4 col1\" >SDSS5_LCO</td>\n",
       "      <td id=\"T_d2f32_row4_col2\" class=\"data row4 col2\" >LCO</td>\n",
       "      <td id=\"T_d2f32_row4_col3\" class=\"data row4 col3\" >S</td>\n",
       "      <td id=\"T_d2f32_row4_col4\" class=\"data row4 col4\" >Current</td>\n",
       "      <td id=\"T_d2f32_row4_col5\" class=\"data row4 col5\" >2021</td>\n",
       "      <td id=\"T_d2f32_row4_col6\" class=\"data row4 col6\" >2.50</td>\n",
       "      <td id=\"T_d2f32_row4_col7\" class=\"data row4 col7\" >3.10</td>\n",
       "      <td id=\"T_d2f32_row4_col8\" class=\"data row4 col8\" >500</td>\n",
       "      <td id=\"T_d2f32_row4_col9\" class=\"data row4 col9\" >VIS</td>\n",
       "      <td id=\"T_d2f32_row4_col10\" class=\"data row4 col10\" >LOW</td>\n",
       "      <td id=\"T_d2f32_row4_col11\" class=\"data row4 col11\" >360-1040</td>\n",
       "      <td id=\"T_d2f32_row4_col12\" class=\"data row4 col12\" >360.00</td>\n",
       "      <td id=\"T_d2f32_row4_col13\" class=\"data row4 col13\" >1040.00</td>\n",
       "      <td id=\"T_d2f32_row4_col14\" class=\"data row4 col14\" >continuous</td>\n",
       "      <td id=\"T_d2f32_row4_col15\" class=\"data row4 col15\" >1560-2270;1850-2650</td>\n",
       "      <td id=\"T_d2f32_row4_col16\" class=\"data row4 col16\" >1560.00</td>\n",
       "      <td id=\"T_d2f32_row4_col17\" class=\"data row4 col17\" >2650.00</td>\n",
       "      <td id=\"T_d2f32_row4_col18\" class=\"data row4 col18\" >nan</td>\n",
       "      <td id=\"T_d2f32_row4_col19\" class=\"data row4 col19\" >nan</td>\n",
       "    </tr>\n",
       "    <tr>\n",
       "      <td id=\"T_d2f32_row5_col0\" class=\"data row5 col0\" >SDSS_5_APOGEE+BOSS</td>\n",
       "      <td id=\"T_d2f32_row5_col1\" class=\"data row5 col1\" >SDSS5_LCO</td>\n",
       "      <td id=\"T_d2f32_row5_col2\" class=\"data row5 col2\" >LCO</td>\n",
       "      <td id=\"T_d2f32_row5_col3\" class=\"data row5 col3\" >S</td>\n",
       "      <td id=\"T_d2f32_row5_col4\" class=\"data row5 col4\" >Current</td>\n",
       "      <td id=\"T_d2f32_row5_col5\" class=\"data row5 col5\" >2021</td>\n",
       "      <td id=\"T_d2f32_row5_col6\" class=\"data row5 col6\" >2.50</td>\n",
       "      <td id=\"T_d2f32_row5_col7\" class=\"data row5 col7\" >3.10</td>\n",
       "      <td id=\"T_d2f32_row5_col8\" class=\"data row5 col8\" >500</td>\n",
       "      <td id=\"T_d2f32_row5_col9\" class=\"data row5 col9\" >NIR(H)</td>\n",
       "      <td id=\"T_d2f32_row5_col10\" class=\"data row5 col10\" >HIGH</td>\n",
       "      <td id=\"T_d2f32_row5_col11\" class=\"data row5 col11\" >1510-1700</td>\n",
       "      <td id=\"T_d2f32_row5_col12\" class=\"data row5 col12\" >1510.00</td>\n",
       "      <td id=\"T_d2f32_row5_col13\" class=\"data row5 col13\" >1700.00</td>\n",
       "      <td id=\"T_d2f32_row5_col14\" class=\"data row5 col14\" >continuous</td>\n",
       "      <td id=\"T_d2f32_row5_col15\" class=\"data row5 col15\" >22500</td>\n",
       "      <td id=\"T_d2f32_row5_col16\" class=\"data row5 col16\" >22500.00</td>\n",
       "      <td id=\"T_d2f32_row5_col17\" class=\"data row5 col17\" >22500.00</td>\n",
       "      <td id=\"T_d2f32_row5_col18\" class=\"data row5 col18\" >nan</td>\n",
       "      <td id=\"T_d2f32_row5_col19\" class=\"data row5 col19\" >nan</td>\n",
       "    </tr>\n",
       "    <tr>\n",
       "      <td id=\"T_d2f32_row6_col0\" class=\"data row6 col0\" >DESI</td>\n",
       "      <td id=\"T_d2f32_row6_col1\" class=\"data row6 col1\" >DESI</td>\n",
       "      <td id=\"T_d2f32_row6_col2\" class=\"data row6 col2\" >KPO</td>\n",
       "      <td id=\"T_d2f32_row6_col3\" class=\"data row6 col3\" >N</td>\n",
       "      <td id=\"T_d2f32_row6_col4\" class=\"data row6 col4\" >Current</td>\n",
       "      <td id=\"T_d2f32_row6_col5\" class=\"data row6 col5\" >2020</td>\n",
       "      <td id=\"T_d2f32_row6_col6\" class=\"data row6 col6\" >4.00</td>\n",
       "      <td id=\"T_d2f32_row6_col7\" class=\"data row6 col7\" >8.00</td>\n",
       "      <td id=\"T_d2f32_row6_col8\" class=\"data row6 col8\" >5000</td>\n",
       "      <td id=\"T_d2f32_row6_col9\" class=\"data row6 col9\" >VIS</td>\n",
       "      <td id=\"T_d2f32_row6_col10\" class=\"data row6 col10\" >LOW</td>\n",
       "      <td id=\"T_d2f32_row6_col11\" class=\"data row6 col11\" >360-555;555-656</td>\n",
       "      <td id=\"T_d2f32_row6_col12\" class=\"data row6 col12\" >360.00</td>\n",
       "      <td id=\"T_d2f32_row6_col13\" class=\"data row6 col13\" >656.00</td>\n",
       "      <td id=\"T_d2f32_row6_col14\" class=\"data row6 col14\" >continuous</td>\n",
       "      <td id=\"T_d2f32_row6_col15\" class=\"data row6 col15\" >2000-3200;3200-4100</td>\n",
       "      <td id=\"T_d2f32_row6_col16\" class=\"data row6 col16\" >2000.00</td>\n",
       "      <td id=\"T_d2f32_row6_col17\" class=\"data row6 col17\" >4100.00</td>\n",
       "      <td id=\"T_d2f32_row6_col18\" class=\"data row6 col18\" >9.50</td>\n",
       "      <td id=\"T_d2f32_row6_col19\" class=\"data row6 col19\" >76.00</td>\n",
       "    </tr>\n",
       "    <tr>\n",
       "      <td id=\"T_d2f32_row7_col0\" class=\"data row7 col0\" >DESI</td>\n",
       "      <td id=\"T_d2f32_row7_col1\" class=\"data row7 col1\" >DESI</td>\n",
       "      <td id=\"T_d2f32_row7_col2\" class=\"data row7 col2\" >KPO</td>\n",
       "      <td id=\"T_d2f32_row7_col3\" class=\"data row7 col3\" >N</td>\n",
       "      <td id=\"T_d2f32_row7_col4\" class=\"data row7 col4\" >Current</td>\n",
       "      <td id=\"T_d2f32_row7_col5\" class=\"data row7 col5\" >2020</td>\n",
       "      <td id=\"T_d2f32_row7_col6\" class=\"data row7 col6\" >4.00</td>\n",
       "      <td id=\"T_d2f32_row7_col7\" class=\"data row7 col7\" >8.00</td>\n",
       "      <td id=\"T_d2f32_row7_col8\" class=\"data row7 col8\" >5000</td>\n",
       "      <td id=\"T_d2f32_row7_col9\" class=\"data row7 col9\" >VIS</td>\n",
       "      <td id=\"T_d2f32_row7_col10\" class=\"data row7 col10\" >MED</td>\n",
       "      <td id=\"T_d2f32_row7_col11\" class=\"data row7 col11\" >656-980</td>\n",
       "      <td id=\"T_d2f32_row7_col12\" class=\"data row7 col12\" >656.00</td>\n",
       "      <td id=\"T_d2f32_row7_col13\" class=\"data row7 col13\" >980.00</td>\n",
       "      <td id=\"T_d2f32_row7_col14\" class=\"data row7 col14\" >continuous</td>\n",
       "      <td id=\"T_d2f32_row7_col15\" class=\"data row7 col15\" >4100-5100</td>\n",
       "      <td id=\"T_d2f32_row7_col16\" class=\"data row7 col16\" >4100.00</td>\n",
       "      <td id=\"T_d2f32_row7_col17\" class=\"data row7 col17\" >5100.00</td>\n",
       "      <td id=\"T_d2f32_row7_col18\" class=\"data row7 col18\" >9.50</td>\n",
       "      <td id=\"T_d2f32_row7_col19\" class=\"data row7 col19\" >76.00</td>\n",
       "    </tr>\n",
       "    <tr>\n",
       "      <td id=\"T_d2f32_row8_col0\" class=\"data row8 col0\" >WEAVE</td>\n",
       "      <td id=\"T_d2f32_row8_col1\" class=\"data row8 col1\" >WEAVE</td>\n",
       "      <td id=\"T_d2f32_row8_col2\" class=\"data row8 col2\" >OOCC</td>\n",
       "      <td id=\"T_d2f32_row8_col3\" class=\"data row8 col3\" >N</td>\n",
       "      <td id=\"T_d2f32_row8_col4\" class=\"data row8 col4\" >Build</td>\n",
       "      <td id=\"T_d2f32_row8_col5\" class=\"data row8 col5\" >2022</td>\n",
       "      <td id=\"T_d2f32_row8_col6\" class=\"data row8 col6\" >4.20</td>\n",
       "      <td id=\"T_d2f32_row8_col7\" class=\"data row8 col7\" >3.10</td>\n",
       "      <td id=\"T_d2f32_row8_col8\" class=\"data row8 col8\" >1000</td>\n",
       "      <td id=\"T_d2f32_row8_col9\" class=\"data row8 col9\" >VIS</td>\n",
       "      <td id=\"T_d2f32_row8_col10\" class=\"data row8 col10\" >MED</td>\n",
       "      <td id=\"T_d2f32_row8_col11\" class=\"data row8 col11\" >366-606;579-959</td>\n",
       "      <td id=\"T_d2f32_row8_col12\" class=\"data row8 col12\" >366.00</td>\n",
       "      <td id=\"T_d2f32_row8_col13\" class=\"data row8 col13\" >959.00</td>\n",
       "      <td id=\"T_d2f32_row8_col14\" class=\"data row8 col14\" >continuous</td>\n",
       "      <td id=\"T_d2f32_row8_col15\" class=\"data row8 col15\" >5000</td>\n",
       "      <td id=\"T_d2f32_row8_col16\" class=\"data row8 col16\" >5000.00</td>\n",
       "      <td id=\"T_d2f32_row8_col17\" class=\"data row8 col17\" >5000.00</td>\n",
       "      <td id=\"T_d2f32_row8_col18\" class=\"data row8 col18\" >13.80</td>\n",
       "      <td id=\"T_d2f32_row8_col19\" class=\"data row8 col19\" >42.78</td>\n",
       "    </tr>\n",
       "    <tr>\n",
       "      <td id=\"T_d2f32_row9_col0\" class=\"data row9 col0\" >WEAVE</td>\n",
       "      <td id=\"T_d2f32_row9_col1\" class=\"data row9 col1\" >WEAVE</td>\n",
       "      <td id=\"T_d2f32_row9_col2\" class=\"data row9 col2\" >OOCC</td>\n",
       "      <td id=\"T_d2f32_row9_col3\" class=\"data row9 col3\" >N</td>\n",
       "      <td id=\"T_d2f32_row9_col4\" class=\"data row9 col4\" >Build</td>\n",
       "      <td id=\"T_d2f32_row9_col5\" class=\"data row9 col5\" >2022</td>\n",
       "      <td id=\"T_d2f32_row9_col6\" class=\"data row9 col6\" >4.20</td>\n",
       "      <td id=\"T_d2f32_row9_col7\" class=\"data row9 col7\" >3.10</td>\n",
       "      <td id=\"T_d2f32_row9_col8\" class=\"data row9 col8\" >1000</td>\n",
       "      <td id=\"T_d2f32_row9_col9\" class=\"data row9 col9\" >VIS</td>\n",
       "      <td id=\"T_d2f32_row9_col10\" class=\"data row9 col10\" >HIGH</td>\n",
       "      <td id=\"T_d2f32_row9_col11\" class=\"data row9 col11\" >404-465;473-545;595-685</td>\n",
       "      <td id=\"T_d2f32_row9_col12\" class=\"data row9 col12\" >404.00</td>\n",
       "      <td id=\"T_d2f32_row9_col13\" class=\"data row9 col13\" >685.00</td>\n",
       "      <td id=\"T_d2f32_row9_col14\" class=\"data row9 col14\" >discontinuous</td>\n",
       "      <td id=\"T_d2f32_row9_col15\" class=\"data row9 col15\" >20000</td>\n",
       "      <td id=\"T_d2f32_row9_col16\" class=\"data row9 col16\" >20000.00</td>\n",
       "      <td id=\"T_d2f32_row9_col17\" class=\"data row9 col17\" >20000.00</td>\n",
       "      <td id=\"T_d2f32_row9_col18\" class=\"data row9 col18\" >13.80</td>\n",
       "      <td id=\"T_d2f32_row9_col19\" class=\"data row9 col19\" >42.78</td>\n",
       "    </tr>\n",
       "    <tr>\n",
       "      <td id=\"T_d2f32_row10_col0\" class=\"data row10 col0\" >MOONS</td>\n",
       "      <td id=\"T_d2f32_row10_col1\" class=\"data row10 col1\" >MOONS</td>\n",
       "      <td id=\"T_d2f32_row10_col2\" class=\"data row10 col2\" >ESO-Paranal</td>\n",
       "      <td id=\"T_d2f32_row10_col3\" class=\"data row10 col3\" >S</td>\n",
       "      <td id=\"T_d2f32_row10_col4\" class=\"data row10 col4\" >Build</td>\n",
       "      <td id=\"T_d2f32_row10_col5\" class=\"data row10 col5\" >2022</td>\n",
       "      <td id=\"T_d2f32_row10_col6\" class=\"data row10 col6\" >8.20</td>\n",
       "      <td id=\"T_d2f32_row10_col7\" class=\"data row10 col7\" >0.14</td>\n",
       "      <td id=\"T_d2f32_row10_col8\" class=\"data row10 col8\" >1001</td>\n",
       "      <td id=\"T_d2f32_row10_col9\" class=\"data row10 col9\" >VIS;NIR(YJH)</td>\n",
       "      <td id=\"T_d2f32_row10_col10\" class=\"data row10 col10\" >MED</td>\n",
       "      <td id=\"T_d2f32_row10_col11\" class=\"data row10 col11\" >650-1800</td>\n",
       "      <td id=\"T_d2f32_row10_col12\" class=\"data row10 col12\" >650.00</td>\n",
       "      <td id=\"T_d2f32_row10_col13\" class=\"data row10 col13\" >1800.00</td>\n",
       "      <td id=\"T_d2f32_row10_col14\" class=\"data row10 col14\" >continuous</td>\n",
       "      <td id=\"T_d2f32_row10_col15\" class=\"data row10 col15\" >4100;4300;6600</td>\n",
       "      <td id=\"T_d2f32_row10_col16\" class=\"data row10 col16\" >4100.00</td>\n",
       "      <td id=\"T_d2f32_row10_col17\" class=\"data row10 col17\" >6600.00</td>\n",
       "      <td id=\"T_d2f32_row10_col18\" class=\"data row10 col18\" >50.00</td>\n",
       "      <td id=\"T_d2f32_row10_col19\" class=\"data row10 col19\" >7.00</td>\n",
       "    </tr>\n",
       "    <tr>\n",
       "      <td id=\"T_d2f32_row11_col0\" class=\"data row11 col0\" >MOONS</td>\n",
       "      <td id=\"T_d2f32_row11_col1\" class=\"data row11 col1\" >MOONS</td>\n",
       "      <td id=\"T_d2f32_row11_col2\" class=\"data row11 col2\" >ESO-Paranal</td>\n",
       "      <td id=\"T_d2f32_row11_col3\" class=\"data row11 col3\" >S</td>\n",
       "      <td id=\"T_d2f32_row11_col4\" class=\"data row11 col4\" >Build</td>\n",
       "      <td id=\"T_d2f32_row11_col5\" class=\"data row11 col5\" >2022</td>\n",
       "      <td id=\"T_d2f32_row11_col6\" class=\"data row11 col6\" >8.20</td>\n",
       "      <td id=\"T_d2f32_row11_col7\" class=\"data row11 col7\" >0.14</td>\n",
       "      <td id=\"T_d2f32_row11_col8\" class=\"data row11 col8\" >1001</td>\n",
       "      <td id=\"T_d2f32_row11_col9\" class=\"data row11 col9\" >VIS;NIR(H)</td>\n",
       "      <td id=\"T_d2f32_row11_col10\" class=\"data row11 col10\" >HIGH</td>\n",
       "      <td id=\"T_d2f32_row11_col11\" class=\"data row11 col11\" >760-890;1520-1640</td>\n",
       "      <td id=\"T_d2f32_row11_col12\" class=\"data row11 col12\" >760.00</td>\n",
       "      <td id=\"T_d2f32_row11_col13\" class=\"data row11 col13\" >1640.00</td>\n",
       "      <td id=\"T_d2f32_row11_col14\" class=\"data row11 col14\" >discontinuous</td>\n",
       "      <td id=\"T_d2f32_row11_col15\" class=\"data row11 col15\" >9200;18300</td>\n",
       "      <td id=\"T_d2f32_row11_col16\" class=\"data row11 col16\" >9200.00</td>\n",
       "      <td id=\"T_d2f32_row11_col17\" class=\"data row11 col17\" >18300.00</td>\n",
       "      <td id=\"T_d2f32_row11_col18\" class=\"data row11 col18\" >50.00</td>\n",
       "      <td id=\"T_d2f32_row11_col19\" class=\"data row11 col19\" >7.00</td>\n",
       "    </tr>\n",
       "    <tr>\n",
       "      <td id=\"T_d2f32_row12_col0\" class=\"data row12 col0\" >PFS</td>\n",
       "      <td id=\"T_d2f32_row12_col1\" class=\"data row12 col1\" >PFS</td>\n",
       "      <td id=\"T_d2f32_row12_col2\" class=\"data row12 col2\" >Subaru</td>\n",
       "      <td id=\"T_d2f32_row12_col3\" class=\"data row12 col3\" >N</td>\n",
       "      <td id=\"T_d2f32_row12_col4\" class=\"data row12 col4\" >Build</td>\n",
       "      <td id=\"T_d2f32_row12_col5\" class=\"data row12 col5\" >2023</td>\n",
       "      <td id=\"T_d2f32_row12_col6\" class=\"data row12 col6\" >8.20</td>\n",
       "      <td id=\"T_d2f32_row12_col7\" class=\"data row12 col7\" >1.30</td>\n",
       "      <td id=\"T_d2f32_row12_col8\" class=\"data row12 col8\" >2400</td>\n",
       "      <td id=\"T_d2f32_row12_col9\" class=\"data row12 col9\" >VIS</td>\n",
       "      <td id=\"T_d2f32_row12_col10\" class=\"data row12 col10\" >LOW</td>\n",
       "      <td id=\"T_d2f32_row12_col11\" class=\"data row12 col11\" >380-650;630-970</td>\n",
       "      <td id=\"T_d2f32_row12_col12\" class=\"data row12 col12\" >380.00</td>\n",
       "      <td id=\"T_d2f32_row12_col13\" class=\"data row12 col13\" >970.00</td>\n",
       "      <td id=\"T_d2f32_row12_col14\" class=\"data row12 col14\" >continuous</td>\n",
       "      <td id=\"T_d2f32_row12_col15\" class=\"data row12 col15\" >2300;3000</td>\n",
       "      <td id=\"T_d2f32_row12_col16\" class=\"data row12 col16\" >2300.00</td>\n",
       "      <td id=\"T_d2f32_row12_col17\" class=\"data row12 col17\" >3000.00</td>\n",
       "      <td id=\"T_d2f32_row12_col18\" class=\"data row12 col18\" >50.00</td>\n",
       "      <td id=\"T_d2f32_row12_col19\" class=\"data row12 col19\" >65.00</td>\n",
       "    </tr>\n",
       "    <tr>\n",
       "      <td id=\"T_d2f32_row13_col0\" class=\"data row13 col0\" >PFS</td>\n",
       "      <td id=\"T_d2f32_row13_col1\" class=\"data row13 col1\" >PFS</td>\n",
       "      <td id=\"T_d2f32_row13_col2\" class=\"data row13 col2\" >Subaru</td>\n",
       "      <td id=\"T_d2f32_row13_col3\" class=\"data row13 col3\" >N</td>\n",
       "      <td id=\"T_d2f32_row13_col4\" class=\"data row13 col4\" >Build</td>\n",
       "      <td id=\"T_d2f32_row13_col5\" class=\"data row13 col5\" >2023</td>\n",
       "      <td id=\"T_d2f32_row13_col6\" class=\"data row13 col6\" >8.20</td>\n",
       "      <td id=\"T_d2f32_row13_col7\" class=\"data row13 col7\" >1.30</td>\n",
       "      <td id=\"T_d2f32_row13_col8\" class=\"data row13 col8\" >2400</td>\n",
       "      <td id=\"T_d2f32_row13_col9\" class=\"data row13 col9\" >VIS*;NIR(YJ*)</td>\n",
       "      <td id=\"T_d2f32_row13_col10\" class=\"data row13 col10\" >MED</td>\n",
       "      <td id=\"T_d2f32_row13_col11\" class=\"data row13 col11\" >710-885;940-1260</td>\n",
       "      <td id=\"T_d2f32_row13_col12\" class=\"data row13 col12\" >710.00</td>\n",
       "      <td id=\"T_d2f32_row13_col13\" class=\"data row13 col13\" >1260.00</td>\n",
       "      <td id=\"T_d2f32_row13_col14\" class=\"data row13 col14\" >discontinuous</td>\n",
       "      <td id=\"T_d2f32_row13_col15\" class=\"data row13 col15\" >5000;4300</td>\n",
       "      <td id=\"T_d2f32_row13_col16\" class=\"data row13 col16\" >4300.00</td>\n",
       "      <td id=\"T_d2f32_row13_col17\" class=\"data row13 col17\" >5000.00</td>\n",
       "      <td id=\"T_d2f32_row13_col18\" class=\"data row13 col18\" >50.00</td>\n",
       "      <td id=\"T_d2f32_row13_col19\" class=\"data row13 col19\" >65.00</td>\n",
       "    </tr>\n",
       "    <tr>\n",
       "      <td id=\"T_d2f32_row14_col0\" class=\"data row14 col0\" >4MOST</td>\n",
       "      <td id=\"T_d2f32_row14_col1\" class=\"data row14 col1\" >4MOST</td>\n",
       "      <td id=\"T_d2f32_row14_col2\" class=\"data row14 col2\" >ESO-Paranal</td>\n",
       "      <td id=\"T_d2f32_row14_col3\" class=\"data row14 col3\" >S</td>\n",
       "      <td id=\"T_d2f32_row14_col4\" class=\"data row14 col4\" >Build</td>\n",
       "      <td id=\"T_d2f32_row14_col5\" class=\"data row14 col5\" >2024</td>\n",
       "      <td id=\"T_d2f32_row14_col6\" class=\"data row14 col6\" >4.10</td>\n",
       "      <td id=\"T_d2f32_row14_col7\" class=\"data row14 col7\" >4.40</td>\n",
       "      <td id=\"T_d2f32_row14_col8\" class=\"data row14 col8\" >1624</td>\n",
       "      <td id=\"T_d2f32_row14_col9\" class=\"data row14 col9\" >VIS</td>\n",
       "      <td id=\"T_d2f32_row14_col10\" class=\"data row14 col10\" >MED</td>\n",
       "      <td id=\"T_d2f32_row14_col11\" class=\"data row14 col11\" >370-950</td>\n",
       "      <td id=\"T_d2f32_row14_col12\" class=\"data row14 col12\" >370.00</td>\n",
       "      <td id=\"T_d2f32_row14_col13\" class=\"data row14 col13\" >950.00</td>\n",
       "      <td id=\"T_d2f32_row14_col14\" class=\"data row14 col14\" >continuous</td>\n",
       "      <td id=\"T_d2f32_row14_col15\" class=\"data row14 col15\" >4000-7700</td>\n",
       "      <td id=\"T_d2f32_row14_col16\" class=\"data row14 col16\" >4000.00</td>\n",
       "      <td id=\"T_d2f32_row14_col17\" class=\"data row14 col17\" >7700.00</td>\n",
       "      <td id=\"T_d2f32_row14_col18\" class=\"data row14 col18\" >12.00</td>\n",
       "      <td id=\"T_d2f32_row14_col19\" class=\"data row14 col19\" >52.80</td>\n",
       "    </tr>\n",
       "    <tr>\n",
       "      <td id=\"T_d2f32_row15_col0\" class=\"data row15 col0\" >4MOST</td>\n",
       "      <td id=\"T_d2f32_row15_col1\" class=\"data row15 col1\" >4MOST</td>\n",
       "      <td id=\"T_d2f32_row15_col2\" class=\"data row15 col2\" >ESO-Paranal</td>\n",
       "      <td id=\"T_d2f32_row15_col3\" class=\"data row15 col3\" >S</td>\n",
       "      <td id=\"T_d2f32_row15_col4\" class=\"data row15 col4\" >Build</td>\n",
       "      <td id=\"T_d2f32_row15_col5\" class=\"data row15 col5\" >2024</td>\n",
       "      <td id=\"T_d2f32_row15_col6\" class=\"data row15 col6\" >4.10</td>\n",
       "      <td id=\"T_d2f32_row15_col7\" class=\"data row15 col7\" >4.40</td>\n",
       "      <td id=\"T_d2f32_row15_col8\" class=\"data row15 col8\" >1624</td>\n",
       "      <td id=\"T_d2f32_row15_col9\" class=\"data row15 col9\" >VIS</td>\n",
       "      <td id=\"T_d2f32_row15_col10\" class=\"data row15 col10\" >HIGH</td>\n",
       "      <td id=\"T_d2f32_row15_col11\" class=\"data row15 col11\" >392.6-435.5;516-573;610-679</td>\n",
       "      <td id=\"T_d2f32_row15_col12\" class=\"data row15 col12\" >392.60</td>\n",
       "      <td id=\"T_d2f32_row15_col13\" class=\"data row15 col13\" >679.00</td>\n",
       "      <td id=\"T_d2f32_row15_col14\" class=\"data row15 col14\" >discontinuous</td>\n",
       "      <td id=\"T_d2f32_row15_col15\" class=\"data row15 col15\" >18000-21000</td>\n",
       "      <td id=\"T_d2f32_row15_col16\" class=\"data row15 col16\" >18000.00</td>\n",
       "      <td id=\"T_d2f32_row15_col17\" class=\"data row15 col17\" >21000.00</td>\n",
       "      <td id=\"T_d2f32_row15_col18\" class=\"data row15 col18\" >12.00</td>\n",
       "      <td id=\"T_d2f32_row15_col19\" class=\"data row15 col19\" >52.80</td>\n",
       "    </tr>\n",
       "    <tr>\n",
       "      <td id=\"T_d2f32_row16_col0\" class=\"data row16 col0\" >MegaMapper</td>\n",
       "      <td id=\"T_d2f32_row16_col1\" class=\"data row16 col1\" >MegaMapper</td>\n",
       "      <td id=\"T_d2f32_row16_col2\" class=\"data row16 col2\" >LCO</td>\n",
       "      <td id=\"T_d2f32_row16_col3\" class=\"data row16 col3\" >S</td>\n",
       "      <td id=\"T_d2f32_row16_col4\" class=\"data row16 col4\" >Design</td>\n",
       "      <td id=\"T_d2f32_row16_col5\" class=\"data row16 col5\" >2029</td>\n",
       "      <td id=\"T_d2f32_row16_col6\" class=\"data row16 col6\" >6.50</td>\n",
       "      <td id=\"T_d2f32_row16_col7\" class=\"data row16 col7\" >7.10</td>\n",
       "      <td id=\"T_d2f32_row16_col8\" class=\"data row16 col8\" >20000</td>\n",
       "      <td id=\"T_d2f32_row16_col9\" class=\"data row16 col9\" >VIS</td>\n",
       "      <td id=\"T_d2f32_row16_col10\" class=\"data row16 col10\" >LOW-MED</td>\n",
       "      <td id=\"T_d2f32_row16_col11\" class=\"data row16 col11\" >360-555;555-656;656-980</td>\n",
       "      <td id=\"T_d2f32_row16_col12\" class=\"data row16 col12\" >360.00</td>\n",
       "      <td id=\"T_d2f32_row16_col13\" class=\"data row16 col13\" >980.00</td>\n",
       "      <td id=\"T_d2f32_row16_col14\" class=\"data row16 col14\" >continuous</td>\n",
       "      <td id=\"T_d2f32_row16_col15\" class=\"data row16 col15\" >2000-5000</td>\n",
       "      <td id=\"T_d2f32_row16_col16\" class=\"data row16 col16\" >2000.00</td>\n",
       "      <td id=\"T_d2f32_row16_col17\" class=\"data row16 col17\" >5000.00</td>\n",
       "      <td id=\"T_d2f32_row16_col18\" class=\"data row16 col18\" >28.00</td>\n",
       "      <td id=\"T_d2f32_row16_col19\" class=\"data row16 col19\" >198.80</td>\n",
       "    </tr>\n",
       "    <tr>\n",
       "      <td id=\"T_d2f32_row17_col0\" class=\"data row17 col0\" >MSE-baseline</td>\n",
       "      <td id=\"T_d2f32_row17_col1\" class=\"data row17 col1\" >MSE_base</td>\n",
       "      <td id=\"T_d2f32_row17_col2\" class=\"data row17 col2\" >CFHT</td>\n",
       "      <td id=\"T_d2f32_row17_col3\" class=\"data row17 col3\" >N</td>\n",
       "      <td id=\"T_d2f32_row17_col4\" class=\"data row17 col4\" >Design</td>\n",
       "      <td id=\"T_d2f32_row17_col5\" class=\"data row17 col5\" >2030</td>\n",
       "      <td id=\"T_d2f32_row17_col6\" class=\"data row17 col6\" >11.30</td>\n",
       "      <td id=\"T_d2f32_row17_col7\" class=\"data row17 col7\" >1.50</td>\n",
       "      <td id=\"T_d2f32_row17_col8\" class=\"data row17 col8\" >3249</td>\n",
       "      <td id=\"T_d2f32_row17_col9\" class=\"data row17 col9\" >VIS;NIR(YJH)</td>\n",
       "      <td id=\"T_d2f32_row17_col10\" class=\"data row17 col10\" >LOW-MED</td>\n",
       "      <td id=\"T_d2f32_row17_col11\" class=\"data row17 col11\" >360–1000;1000-1300;1450-1800</td>\n",
       "      <td id=\"T_d2f32_row17_col12\" class=\"data row17 col12\" >360.00</td>\n",
       "      <td id=\"T_d2f32_row17_col13\" class=\"data row17 col13\" >1800.00</td>\n",
       "      <td id=\"T_d2f32_row17_col14\" class=\"data row17 col14\" >continuous</td>\n",
       "      <td id=\"T_d2f32_row17_col15\" class=\"data row17 col15\" >2500-6000</td>\n",
       "      <td id=\"T_d2f32_row17_col16\" class=\"data row17 col16\" >2500.00</td>\n",
       "      <td id=\"T_d2f32_row17_col17\" class=\"data row17 col17\" >6000.00</td>\n",
       "      <td id=\"T_d2f32_row17_col18\" class=\"data row17 col18\" >80.80</td>\n",
       "      <td id=\"T_d2f32_row17_col19\" class=\"data row17 col19\" >121.20</td>\n",
       "    </tr>\n",
       "    <tr>\n",
       "      <td id=\"T_d2f32_row18_col0\" class=\"data row18 col0\" >MSE-baseline</td>\n",
       "      <td id=\"T_d2f32_row18_col1\" class=\"data row18 col1\" >MSE_base</td>\n",
       "      <td id=\"T_d2f32_row18_col2\" class=\"data row18 col2\" >CFHT</td>\n",
       "      <td id=\"T_d2f32_row18_col3\" class=\"data row18 col3\" >N</td>\n",
       "      <td id=\"T_d2f32_row18_col4\" class=\"data row18 col4\" >Design</td>\n",
       "      <td id=\"T_d2f32_row18_col5\" class=\"data row18 col5\" >2030</td>\n",
       "      <td id=\"T_d2f32_row18_col6\" class=\"data row18 col6\" >11.30</td>\n",
       "      <td id=\"T_d2f32_row18_col7\" class=\"data row18 col7\" >1.50</td>\n",
       "      <td id=\"T_d2f32_row18_col8\" class=\"data row18 col8\" >1083</td>\n",
       "      <td id=\"T_d2f32_row18_col9\" class=\"data row18 col9\" >VIS</td>\n",
       "      <td id=\"T_d2f32_row18_col10\" class=\"data row18 col10\" >HIGH</td>\n",
       "      <td id=\"T_d2f32_row18_col11\" class=\"data row18 col11\" >360-900</td>\n",
       "      <td id=\"T_d2f32_row18_col12\" class=\"data row18 col12\" >360.00</td>\n",
       "      <td id=\"T_d2f32_row18_col13\" class=\"data row18 col13\" >900.00</td>\n",
       "      <td id=\"T_d2f32_row18_col14\" class=\"data row18 col14\" >continuous</td>\n",
       "      <td id=\"T_d2f32_row18_col15\" class=\"data row18 col15\" >30000</td>\n",
       "      <td id=\"T_d2f32_row18_col16\" class=\"data row18 col16\" >30000.00</td>\n",
       "      <td id=\"T_d2f32_row18_col17\" class=\"data row18 col17\" >30000.00</td>\n",
       "      <td id=\"T_d2f32_row18_col18\" class=\"data row18 col18\" >80.80</td>\n",
       "      <td id=\"T_d2f32_row18_col19\" class=\"data row18 col19\" >121.20</td>\n",
       "    </tr>\n",
       "    <tr>\n",
       "      <td id=\"T_d2f32_row19_col0\" class=\"data row19 col0\" >SpecTel/WST</td>\n",
       "      <td id=\"T_d2f32_row19_col1\" class=\"data row19 col1\" >SpecTel</td>\n",
       "      <td id=\"T_d2f32_row19_col2\" class=\"data row19 col2\" >ESO</td>\n",
       "      <td id=\"T_d2f32_row19_col3\" class=\"data row19 col3\" >S</td>\n",
       "      <td id=\"T_d2f32_row19_col4\" class=\"data row19 col4\" >Design</td>\n",
       "      <td id=\"T_d2f32_row19_col5\" class=\"data row19 col5\" >Unknown</td>\n",
       "      <td id=\"T_d2f32_row19_col6\" class=\"data row19 col6\" >11.40</td>\n",
       "      <td id=\"T_d2f32_row19_col7\" class=\"data row19 col7\" >4.90</td>\n",
       "      <td id=\"T_d2f32_row19_col8\" class=\"data row19 col8\" >15000</td>\n",
       "      <td id=\"T_d2f32_row19_col9\" class=\"data row19 col9\" >VIS;NIR(YJ)</td>\n",
       "      <td id=\"T_d2f32_row19_col10\" class=\"data row19 col10\" >MED</td>\n",
       "      <td id=\"T_d2f32_row19_col11\" class=\"data row19 col11\" >360-1000;965-1330</td>\n",
       "      <td id=\"T_d2f32_row19_col12\" class=\"data row19 col12\" >360.00</td>\n",
       "      <td id=\"T_d2f32_row19_col13\" class=\"data row19 col13\" >1330.00</td>\n",
       "      <td id=\"T_d2f32_row19_col14\" class=\"data row19 col14\" >continuous</td>\n",
       "      <td id=\"T_d2f32_row19_col15\" class=\"data row19 col15\" >3000-4000</td>\n",
       "      <td id=\"T_d2f32_row19_col16\" class=\"data row19 col16\" >3000.00</td>\n",
       "      <td id=\"T_d2f32_row19_col17\" class=\"data row19 col17\" >4000.00</td>\n",
       "      <td id=\"T_d2f32_row19_col18\" class=\"data row19 col18\" >87.90</td>\n",
       "      <td id=\"T_d2f32_row19_col19\" class=\"data row19 col19\" >430.71</td>\n",
       "    </tr>\n",
       "    <tr>\n",
       "      <td id=\"T_d2f32_row20_col0\" class=\"data row20 col0\" >SpecTel/WST</td>\n",
       "      <td id=\"T_d2f32_row20_col1\" class=\"data row20 col1\" >SpecTel</td>\n",
       "      <td id=\"T_d2f32_row20_col2\" class=\"data row20 col2\" >ESO</td>\n",
       "      <td id=\"T_d2f32_row20_col3\" class=\"data row20 col3\" >S</td>\n",
       "      <td id=\"T_d2f32_row20_col4\" class=\"data row20 col4\" >Design</td>\n",
       "      <td id=\"T_d2f32_row20_col5\" class=\"data row20 col5\" >Unknown</td>\n",
       "      <td id=\"T_d2f32_row20_col6\" class=\"data row20 col6\" >11.40</td>\n",
       "      <td id=\"T_d2f32_row20_col7\" class=\"data row20 col7\" >4.90</td>\n",
       "      <td id=\"T_d2f32_row20_col8\" class=\"data row20 col8\" >15000</td>\n",
       "      <td id=\"T_d2f32_row20_col9\" class=\"data row20 col9\" >VIS</td>\n",
       "      <td id=\"T_d2f32_row20_col10\" class=\"data row20 col10\" >HIGH</td>\n",
       "      <td id=\"T_d2f32_row20_col11\" class=\"data row20 col11\" >360-1000</td>\n",
       "      <td id=\"T_d2f32_row20_col12\" class=\"data row20 col12\" >360.00</td>\n",
       "      <td id=\"T_d2f32_row20_col13\" class=\"data row20 col13\" >1000.00</td>\n",
       "      <td id=\"T_d2f32_row20_col14\" class=\"data row20 col14\" >continuous</td>\n",
       "      <td id=\"T_d2f32_row20_col15\" class=\"data row20 col15\" >20000-40000</td>\n",
       "      <td id=\"T_d2f32_row20_col16\" class=\"data row20 col16\" >20000.00</td>\n",
       "      <td id=\"T_d2f32_row20_col17\" class=\"data row20 col17\" >40000.00</td>\n",
       "      <td id=\"T_d2f32_row20_col18\" class=\"data row20 col18\" >87.90</td>\n",
       "      <td id=\"T_d2f32_row20_col19\" class=\"data row20 col19\" >430.71</td>\n",
       "    </tr>\n",
       "    <tr>\n",
       "      <td id=\"T_d2f32_row21_col0\" class=\"data row21 col0\" >LSSTspec</td>\n",
       "      <td id=\"T_d2f32_row21_col1\" class=\"data row21 col1\" >LSSTspec</td>\n",
       "      <td id=\"T_d2f32_row21_col2\" class=\"data row21 col2\" >VRO</td>\n",
       "      <td id=\"T_d2f32_row21_col3\" class=\"data row21 col3\" >S</td>\n",
       "      <td id=\"T_d2f32_row21_col4\" class=\"data row21 col4\" >Conception</td>\n",
       "      <td id=\"T_d2f32_row21_col5\" class=\"data row21 col5\" >Unknown</td>\n",
       "      <td id=\"T_d2f32_row21_col6\" class=\"data row21 col6\" >8.40</td>\n",
       "      <td id=\"T_d2f32_row21_col7\" class=\"data row21 col7\" >9.60</td>\n",
       "      <td id=\"T_d2f32_row21_col8\" class=\"data row21 col8\" >30000</td>\n",
       "      <td id=\"T_d2f32_row21_col9\" class=\"data row21 col9\" >VIS</td>\n",
       "      <td id=\"T_d2f32_row21_col10\" class=\"data row21 col10\" >MED</td>\n",
       "      <td id=\"T_d2f32_row21_col11\" class=\"data row21 col11\" >nan</td>\n",
       "      <td id=\"T_d2f32_row21_col12\" class=\"data row21 col12\" >nan</td>\n",
       "      <td id=\"T_d2f32_row21_col13\" class=\"data row21 col13\" >nan</td>\n",
       "      <td id=\"T_d2f32_row21_col14\" class=\"data row21 col14\" >nan</td>\n",
       "      <td id=\"T_d2f32_row21_col15\" class=\"data row21 col15\" >nan</td>\n",
       "      <td id=\"T_d2f32_row21_col16\" class=\"data row21 col16\" >nan</td>\n",
       "      <td id=\"T_d2f32_row21_col17\" class=\"data row21 col17\" >nan</td>\n",
       "      <td id=\"T_d2f32_row21_col18\" class=\"data row21 col18\" >35.30</td>\n",
       "      <td id=\"T_d2f32_row21_col19\" class=\"data row21 col19\" >338.88</td>\n",
       "    </tr>\n",
       "    <tr>\n",
       "      <td id=\"T_d2f32_row22_col0\" class=\"data row22 col0\" >MOSAIC</td>\n",
       "      <td id=\"T_d2f32_row22_col1\" class=\"data row22 col1\" >MOSAIC</td>\n",
       "      <td id=\"T_d2f32_row22_col2\" class=\"data row22 col2\" >ESO-ELT</td>\n",
       "      <td id=\"T_d2f32_row22_col3\" class=\"data row22 col3\" >S</td>\n",
       "      <td id=\"T_d2f32_row22_col4\" class=\"data row22 col4\" >Conception</td>\n",
       "      <td id=\"T_d2f32_row22_col5\" class=\"data row22 col5\" >Unknown</td>\n",
       "      <td id=\"T_d2f32_row22_col6\" class=\"data row22 col6\" >39.30</td>\n",
       "      <td id=\"T_d2f32_row22_col7\" class=\"data row22 col7\" >0.02</td>\n",
       "      <td id=\"T_d2f32_row22_col8\" class=\"data row22 col8\" >200</td>\n",
       "      <td id=\"T_d2f32_row22_col9\" class=\"data row22 col9\" >VIS;NIR(YJH)</td>\n",
       "      <td id=\"T_d2f32_row22_col10\" class=\"data row22 col10\" >MED</td>\n",
       "      <td id=\"T_d2f32_row22_col11\" class=\"data row22 col11\" >450-700;770-1800</td>\n",
       "      <td id=\"T_d2f32_row22_col12\" class=\"data row22 col12\" >450.00</td>\n",
       "      <td id=\"T_d2f32_row22_col13\" class=\"data row22 col13\" >1800.00</td>\n",
       "      <td id=\"T_d2f32_row22_col14\" class=\"data row22 col14\" >discontinuous</td>\n",
       "      <td id=\"T_d2f32_row22_col15\" class=\"data row22 col15\" >4000-5000</td>\n",
       "      <td id=\"T_d2f32_row22_col16\" class=\"data row22 col16\" >4000.00</td>\n",
       "      <td id=\"T_d2f32_row22_col17\" class=\"data row22 col17\" >5000.00</td>\n",
       "      <td id=\"T_d2f32_row22_col18\" class=\"data row22 col18\" >978.00</td>\n",
       "      <td id=\"T_d2f32_row22_col19\" class=\"data row22 col19\" >19.56</td>\n",
       "    </tr>\n",
       "    <tr>\n",
       "      <td id=\"T_d2f32_row23_col0\" class=\"data row23 col0\" >MOSAIC</td>\n",
       "      <td id=\"T_d2f32_row23_col1\" class=\"data row23 col1\" >MOSAIC</td>\n",
       "      <td id=\"T_d2f32_row23_col2\" class=\"data row23 col2\" >ESO-ELT</td>\n",
       "      <td id=\"T_d2f32_row23_col3\" class=\"data row23 col3\" >S</td>\n",
       "      <td id=\"T_d2f32_row23_col4\" class=\"data row23 col4\" >Conception</td>\n",
       "      <td id=\"T_d2f32_row23_col5\" class=\"data row23 col5\" >Unknown</td>\n",
       "      <td id=\"T_d2f32_row23_col6\" class=\"data row23 col6\" >39.30</td>\n",
       "      <td id=\"T_d2f32_row23_col7\" class=\"data row23 col7\" >0.02</td>\n",
       "      <td id=\"T_d2f32_row23_col8\" class=\"data row23 col8\" >200</td>\n",
       "      <td id=\"T_d2f32_row23_col9\" class=\"data row23 col9\" >VIS;NIR(YJH)</td>\n",
       "      <td id=\"T_d2f32_row23_col10\" class=\"data row23 col10\" >HIGH</td>\n",
       "      <td id=\"T_d2f32_row23_col11\" class=\"data row23 col11\" >450-877;770-1800</td>\n",
       "      <td id=\"T_d2f32_row23_col12\" class=\"data row23 col12\" >450.00</td>\n",
       "      <td id=\"T_d2f32_row23_col13\" class=\"data row23 col13\" >1800.00</td>\n",
       "      <td id=\"T_d2f32_row23_col14\" class=\"data row23 col14\" >continuous</td>\n",
       "      <td id=\"T_d2f32_row23_col15\" class=\"data row23 col15\" >18000</td>\n",
       "      <td id=\"T_d2f32_row23_col16\" class=\"data row23 col16\" >18000.00</td>\n",
       "      <td id=\"T_d2f32_row23_col17\" class=\"data row23 col17\" >18000.00</td>\n",
       "      <td id=\"T_d2f32_row23_col18\" class=\"data row23 col18\" >978.00</td>\n",
       "      <td id=\"T_d2f32_row23_col19\" class=\"data row23 col19\" >19.56</td>\n",
       "    </tr>\n",
       "  </tbody>\n",
       "</table>\n"
      ],
      "text/plain": [
       "<pandas.io.formats.style.Styler at 0x7f8c5a5699f0>"
      ]
     },
     "execution_count": 17,
     "metadata": {},
     "output_type": "execute_result"
    }
   ],
   "source": [
    "combined_table = pd.read_csv('MOS_Surveys_Table_Combined.csv',skiprows=[1,2,3,4,22])\n",
    "combined_table.style.format(precision=2).hide()"
   ]
  },
  {
   "cell_type": "markdown",
   "id": "d8129b6e",
   "metadata": {},
   "source": [
    "## Generate Plotly Visualizations of MOS Data"
   ]
  },
  {
   "cell_type": "markdown",
   "id": "acefa213",
   "metadata": {},
   "source": [
    "### Entendue as a function of Wavelength"
   ]
  },
  {
   "cell_type": "markdown",
   "id": "480f4d71",
   "metadata": {},
   "source": [
    "Initially attempt to use Plotly Express to generate initial horizontal bar plot of etendue as function of wavelength coverage for each MOS Project."
   ]
  },
  {
   "cell_type": "code",
   "execution_count": 15,
   "id": "1cd5b4b8",
   "metadata": {},
   "outputs": [
    {
     "data": {
      "application/vnd.plotly.v1+json": {
       "config": {
        "plotlyServerURL": "https://plot.ly"
       },
       "data": [
        {
         "alignmentgroup": "True",
         "customdata": [
          [
           900,
           19.6,
           18.86
          ]
         ],
         "hovertemplate": "Instrument=LAMOST<br>WL_MIN_nm=%{x}<br>FOV_deg2=%{customdata[1]:.2f}<br>Collecting_Area_m2=%{customdata[2]:.2f}<extra></extra>",
         "legendgroup": "LAMOST",
         "marker": {
          "color": "#636efa",
          "pattern": {
           "shape": ""
          }
         },
         "name": "LAMOST",
         "offsetgroup": "LAMOST",
         "orientation": "h",
         "showlegend": true,
         "textposition": "auto",
         "type": "bar",
         "x": [
          370
         ],
         "xaxis": "x",
         "y": [
          369.66
         ],
         "yaxis": "y"
        },
        {
         "alignmentgroup": "True",
         "customdata": [
          [
           788.7,
           3.1,
           12
          ]
         ],
         "hovertemplate": "Instrument=HERMES<br>WL_MIN_nm=%{x}<br>FOV_deg2=%{customdata[1]:.2f}<br>Collecting_Area_m2=%{customdata[2]:.2f}<extra></extra>",
         "legendgroup": "HERMES",
         "marker": {
          "color": "#EF553B",
          "pattern": {
           "shape": ""
          }
         },
         "name": "HERMES",
         "offsetgroup": "HERMES",
         "orientation": "h",
         "showlegend": true,
         "textposition": "auto",
         "type": "bar",
         "x": [
          471.5
         ],
         "xaxis": "x",
         "y": [
          37.2
         ],
         "yaxis": "y"
        },
        {
         "alignmentgroup": "True",
         "customdata": [
          [
           1040,
           7.1,
           3.68
          ],
          [
           1710,
           7.1,
           3.68
          ],
          [
           1040,
           3.1,
           null
          ],
          [
           1700,
           3.1,
           null
          ]
         ],
         "hovertemplate": "Instrument=SDSS_5_APOGEE+BOSS<br>WL_MIN_nm=%{x}<br>FOV_deg2=%{customdata[1]:.2f}<br>Collecting_Area_m2=%{customdata[2]:.2f}<extra></extra>",
         "legendgroup": "SDSS_5_APOGEE+BOSS",
         "marker": {
          "color": "#00cc96",
          "pattern": {
           "shape": ""
          }
         },
         "name": "SDSS_5_APOGEE+BOSS",
         "offsetgroup": "SDSS_5_APOGEE+BOSS",
         "orientation": "h",
         "showlegend": true,
         "textposition": "auto",
         "type": "bar",
         "x": [
          360,
          1510,
          360,
          1510
         ],
         "xaxis": "x",
         "y": [
          26.13,
          26.13,
          null,
          null
         ],
         "yaxis": "y"
        },
        {
         "alignmentgroup": "True",
         "customdata": [
          [
           656,
           8,
           9.5
          ],
          [
           980,
           8,
           9.5
          ]
         ],
         "hovertemplate": "Instrument=DESI<br>WL_MIN_nm=%{x}<br>FOV_deg2=%{customdata[1]:.2f}<br>Collecting_Area_m2=%{customdata[2]:.2f}<extra></extra>",
         "legendgroup": "DESI",
         "marker": {
          "color": "#ab63fa",
          "pattern": {
           "shape": ""
          }
         },
         "name": "DESI",
         "offsetgroup": "DESI",
         "orientation": "h",
         "showlegend": true,
         "textposition": "auto",
         "type": "bar",
         "x": [
          360,
          656
         ],
         "xaxis": "x",
         "y": [
          76,
          76
         ],
         "yaxis": "y"
        },
        {
         "alignmentgroup": "True",
         "customdata": [
          [
           959,
           3.1,
           13.8
          ],
          [
           685,
           3.1,
           13.8
          ]
         ],
         "hovertemplate": "Instrument=WEAVE<br>WL_MIN_nm=%{x}<br>FOV_deg2=%{customdata[1]:.2f}<br>Collecting_Area_m2=%{customdata[2]:.2f}<extra></extra>",
         "legendgroup": "WEAVE",
         "marker": {
          "color": "#FFA15A",
          "pattern": {
           "shape": ""
          }
         },
         "name": "WEAVE",
         "offsetgroup": "WEAVE",
         "orientation": "h",
         "showlegend": true,
         "textposition": "auto",
         "type": "bar",
         "x": [
          366,
          404
         ],
         "xaxis": "x",
         "y": [
          42.78,
          42.78
         ],
         "yaxis": "y"
        },
        {
         "alignmentgroup": "True",
         "customdata": [
          [
           1800,
           0.14,
           50
          ],
          [
           1640,
           0.14,
           50
          ]
         ],
         "hovertemplate": "Instrument=MOONS<br>WL_MIN_nm=%{x}<br>FOV_deg2=%{customdata[1]:.2f}<br>Collecting_Area_m2=%{customdata[2]:.2f}<extra></extra>",
         "legendgroup": "MOONS",
         "marker": {
          "color": "#19d3f3",
          "pattern": {
           "shape": ""
          }
         },
         "name": "MOONS",
         "offsetgroup": "MOONS",
         "orientation": "h",
         "showlegend": true,
         "textposition": "auto",
         "type": "bar",
         "x": [
          650,
          760
         ],
         "xaxis": "x",
         "y": [
          7,
          7
         ],
         "yaxis": "y"
        },
        {
         "alignmentgroup": "True",
         "customdata": [
          [
           970,
           1.3,
           50
          ],
          [
           1260,
           1.3,
           50
          ]
         ],
         "hovertemplate": "Instrument=PFS<br>WL_MIN_nm=%{x}<br>FOV_deg2=%{customdata[1]:.2f}<br>Collecting_Area_m2=%{customdata[2]:.2f}<extra></extra>",
         "legendgroup": "PFS",
         "marker": {
          "color": "#FF6692",
          "pattern": {
           "shape": ""
          }
         },
         "name": "PFS",
         "offsetgroup": "PFS",
         "orientation": "h",
         "showlegend": true,
         "textposition": "auto",
         "type": "bar",
         "x": [
          380,
          710
         ],
         "xaxis": "x",
         "y": [
          65,
          65
         ],
         "yaxis": "y"
        },
        {
         "alignmentgroup": "True",
         "customdata": [
          [
           950,
           4.4,
           12
          ],
          [
           679,
           4.4,
           12
          ]
         ],
         "hovertemplate": "Instrument=4MOST<br>WL_MIN_nm=%{x}<br>FOV_deg2=%{customdata[1]:.2f}<br>Collecting_Area_m2=%{customdata[2]:.2f}<extra></extra>",
         "legendgroup": "4MOST",
         "marker": {
          "color": "#B6E880",
          "pattern": {
           "shape": ""
          }
         },
         "name": "4MOST",
         "offsetgroup": "4MOST",
         "orientation": "h",
         "showlegend": true,
         "textposition": "auto",
         "type": "bar",
         "x": [
          370,
          392.6
         ],
         "xaxis": "x",
         "y": [
          52.8,
          52.8
         ],
         "yaxis": "y"
        },
        {
         "alignmentgroup": "True",
         "customdata": [
          [
           980,
           7.1,
           28
          ]
         ],
         "hovertemplate": "Instrument=MegaMapper<br>WL_MIN_nm=%{x}<br>FOV_deg2=%{customdata[1]:.2f}<br>Collecting_Area_m2=%{customdata[2]:.2f}<extra></extra>",
         "legendgroup": "MegaMapper",
         "marker": {
          "color": "#FF97FF",
          "pattern": {
           "shape": ""
          }
         },
         "name": "MegaMapper",
         "offsetgroup": "MegaMapper",
         "orientation": "h",
         "showlegend": true,
         "textposition": "auto",
         "type": "bar",
         "x": [
          360
         ],
         "xaxis": "x",
         "y": [
          198.8
         ],
         "yaxis": "y"
        },
        {
         "alignmentgroup": "True",
         "customdata": [
          [
           1800,
           1.5,
           80.8
          ],
          [
           900,
           1.5,
           80.8
          ]
         ],
         "hovertemplate": "Instrument=MSE-baseline<br>WL_MIN_nm=%{x}<br>FOV_deg2=%{customdata[1]:.2f}<br>Collecting_Area_m2=%{customdata[2]:.2f}<extra></extra>",
         "legendgroup": "MSE-baseline",
         "marker": {
          "color": "#FECB52",
          "pattern": {
           "shape": ""
          }
         },
         "name": "MSE-baseline",
         "offsetgroup": "MSE-baseline",
         "orientation": "h",
         "showlegend": true,
         "textposition": "auto",
         "type": "bar",
         "x": [
          360,
          360
         ],
         "xaxis": "x",
         "y": [
          121.2,
          121.2
         ],
         "yaxis": "y"
        },
        {
         "alignmentgroup": "True",
         "customdata": [
          [
           1330,
           4.9,
           87.9
          ],
          [
           1000,
           4.9,
           87.9
          ]
         ],
         "hovertemplate": "Instrument=SpecTel/WST<br>WL_MIN_nm=%{x}<br>FOV_deg2=%{customdata[1]:.2f}<br>Collecting_Area_m2=%{customdata[2]:.2f}<extra></extra>",
         "legendgroup": "SpecTel/WST",
         "marker": {
          "color": "#636efa",
          "pattern": {
           "shape": ""
          }
         },
         "name": "SpecTel/WST",
         "offsetgroup": "SpecTel/WST",
         "orientation": "h",
         "showlegend": true,
         "textposition": "auto",
         "type": "bar",
         "x": [
          360,
          360
         ],
         "xaxis": "x",
         "y": [
          430.71,
          430.71
         ],
         "yaxis": "y"
        },
        {
         "alignmentgroup": "True",
         "customdata": [
          [
           null,
           9.6,
           35.3
          ]
         ],
         "hovertemplate": "Instrument=LSSTspec<br>WL_MIN_nm=%{x}<br>FOV_deg2=%{customdata[1]:.2f}<br>Collecting_Area_m2=%{customdata[2]:.2f}<extra></extra>",
         "legendgroup": "LSSTspec",
         "marker": {
          "color": "#EF553B",
          "pattern": {
           "shape": ""
          }
         },
         "name": "LSSTspec",
         "offsetgroup": "LSSTspec",
         "orientation": "h",
         "showlegend": true,
         "textposition": "auto",
         "type": "bar",
         "x": [
          null
         ],
         "xaxis": "x",
         "y": [
          338.88
         ],
         "yaxis": "y"
        },
        {
         "alignmentgroup": "True",
         "customdata": [
          [
           1800,
           0.02,
           978
          ],
          [
           1800,
           0.02,
           978
          ]
         ],
         "hovertemplate": "Instrument=MOSAIC<br>WL_MIN_nm=%{x}<br>FOV_deg2=%{customdata[1]:.2f}<br>Collecting_Area_m2=%{customdata[2]:.2f}<extra></extra>",
         "legendgroup": "MOSAIC",
         "marker": {
          "color": "#00cc96",
          "pattern": {
           "shape": ""
          }
         },
         "name": "MOSAIC",
         "offsetgroup": "MOSAIC",
         "orientation": "h",
         "showlegend": true,
         "textposition": "auto",
         "type": "bar",
         "x": [
          450,
          450
         ],
         "xaxis": "x",
         "y": [
          19.56,
          19.56
         ],
         "yaxis": "y"
        }
       ],
       "layout": {
        "barmode": "relative",
        "height": 700,
        "legend": {
         "title": {
          "text": "Instrument"
         },
         "tracegroupgap": 0
        },
        "margin": {
         "t": 60
        },
        "showlegend": true,
        "template": {
         "data": {
          "bar": [
           {
            "error_x": {
             "color": "#2a3f5f"
            },
            "error_y": {
             "color": "#2a3f5f"
            },
            "marker": {
             "line": {
              "color": "#E5ECF6",
              "width": 0.5
             },
             "pattern": {
              "fillmode": "overlay",
              "size": 10,
              "solidity": 0.2
             }
            },
            "type": "bar"
           }
          ],
          "barpolar": [
           {
            "marker": {
             "line": {
              "color": "#E5ECF6",
              "width": 0.5
             },
             "pattern": {
              "fillmode": "overlay",
              "size": 10,
              "solidity": 0.2
             }
            },
            "type": "barpolar"
           }
          ],
          "carpet": [
           {
            "aaxis": {
             "endlinecolor": "#2a3f5f",
             "gridcolor": "white",
             "linecolor": "white",
             "minorgridcolor": "white",
             "startlinecolor": "#2a3f5f"
            },
            "baxis": {
             "endlinecolor": "#2a3f5f",
             "gridcolor": "white",
             "linecolor": "white",
             "minorgridcolor": "white",
             "startlinecolor": "#2a3f5f"
            },
            "type": "carpet"
           }
          ],
          "choropleth": [
           {
            "colorbar": {
             "outlinewidth": 0,
             "ticks": ""
            },
            "type": "choropleth"
           }
          ],
          "contour": [
           {
            "colorbar": {
             "outlinewidth": 0,
             "ticks": ""
            },
            "colorscale": [
             [
              0,
              "#0d0887"
             ],
             [
              0.1111111111111111,
              "#46039f"
             ],
             [
              0.2222222222222222,
              "#7201a8"
             ],
             [
              0.3333333333333333,
              "#9c179e"
             ],
             [
              0.4444444444444444,
              "#bd3786"
             ],
             [
              0.5555555555555556,
              "#d8576b"
             ],
             [
              0.6666666666666666,
              "#ed7953"
             ],
             [
              0.7777777777777778,
              "#fb9f3a"
             ],
             [
              0.8888888888888888,
              "#fdca26"
             ],
             [
              1,
              "#f0f921"
             ]
            ],
            "type": "contour"
           }
          ],
          "contourcarpet": [
           {
            "colorbar": {
             "outlinewidth": 0,
             "ticks": ""
            },
            "type": "contourcarpet"
           }
          ],
          "heatmap": [
           {
            "colorbar": {
             "outlinewidth": 0,
             "ticks": ""
            },
            "colorscale": [
             [
              0,
              "#0d0887"
             ],
             [
              0.1111111111111111,
              "#46039f"
             ],
             [
              0.2222222222222222,
              "#7201a8"
             ],
             [
              0.3333333333333333,
              "#9c179e"
             ],
             [
              0.4444444444444444,
              "#bd3786"
             ],
             [
              0.5555555555555556,
              "#d8576b"
             ],
             [
              0.6666666666666666,
              "#ed7953"
             ],
             [
              0.7777777777777778,
              "#fb9f3a"
             ],
             [
              0.8888888888888888,
              "#fdca26"
             ],
             [
              1,
              "#f0f921"
             ]
            ],
            "type": "heatmap"
           }
          ],
          "heatmapgl": [
           {
            "colorbar": {
             "outlinewidth": 0,
             "ticks": ""
            },
            "colorscale": [
             [
              0,
              "#0d0887"
             ],
             [
              0.1111111111111111,
              "#46039f"
             ],
             [
              0.2222222222222222,
              "#7201a8"
             ],
             [
              0.3333333333333333,
              "#9c179e"
             ],
             [
              0.4444444444444444,
              "#bd3786"
             ],
             [
              0.5555555555555556,
              "#d8576b"
             ],
             [
              0.6666666666666666,
              "#ed7953"
             ],
             [
              0.7777777777777778,
              "#fb9f3a"
             ],
             [
              0.8888888888888888,
              "#fdca26"
             ],
             [
              1,
              "#f0f921"
             ]
            ],
            "type": "heatmapgl"
           }
          ],
          "histogram": [
           {
            "marker": {
             "pattern": {
              "fillmode": "overlay",
              "size": 10,
              "solidity": 0.2
             }
            },
            "type": "histogram"
           }
          ],
          "histogram2d": [
           {
            "colorbar": {
             "outlinewidth": 0,
             "ticks": ""
            },
            "colorscale": [
             [
              0,
              "#0d0887"
             ],
             [
              0.1111111111111111,
              "#46039f"
             ],
             [
              0.2222222222222222,
              "#7201a8"
             ],
             [
              0.3333333333333333,
              "#9c179e"
             ],
             [
              0.4444444444444444,
              "#bd3786"
             ],
             [
              0.5555555555555556,
              "#d8576b"
             ],
             [
              0.6666666666666666,
              "#ed7953"
             ],
             [
              0.7777777777777778,
              "#fb9f3a"
             ],
             [
              0.8888888888888888,
              "#fdca26"
             ],
             [
              1,
              "#f0f921"
             ]
            ],
            "type": "histogram2d"
           }
          ],
          "histogram2dcontour": [
           {
            "colorbar": {
             "outlinewidth": 0,
             "ticks": ""
            },
            "colorscale": [
             [
              0,
              "#0d0887"
             ],
             [
              0.1111111111111111,
              "#46039f"
             ],
             [
              0.2222222222222222,
              "#7201a8"
             ],
             [
              0.3333333333333333,
              "#9c179e"
             ],
             [
              0.4444444444444444,
              "#bd3786"
             ],
             [
              0.5555555555555556,
              "#d8576b"
             ],
             [
              0.6666666666666666,
              "#ed7953"
             ],
             [
              0.7777777777777778,
              "#fb9f3a"
             ],
             [
              0.8888888888888888,
              "#fdca26"
             ],
             [
              1,
              "#f0f921"
             ]
            ],
            "type": "histogram2dcontour"
           }
          ],
          "mesh3d": [
           {
            "colorbar": {
             "outlinewidth": 0,
             "ticks": ""
            },
            "type": "mesh3d"
           }
          ],
          "parcoords": [
           {
            "line": {
             "colorbar": {
              "outlinewidth": 0,
              "ticks": ""
             }
            },
            "type": "parcoords"
           }
          ],
          "pie": [
           {
            "automargin": true,
            "type": "pie"
           }
          ],
          "scatter": [
           {
            "marker": {
             "colorbar": {
              "outlinewidth": 0,
              "ticks": ""
             }
            },
            "type": "scatter"
           }
          ],
          "scatter3d": [
           {
            "line": {
             "colorbar": {
              "outlinewidth": 0,
              "ticks": ""
             }
            },
            "marker": {
             "colorbar": {
              "outlinewidth": 0,
              "ticks": ""
             }
            },
            "type": "scatter3d"
           }
          ],
          "scattercarpet": [
           {
            "marker": {
             "colorbar": {
              "outlinewidth": 0,
              "ticks": ""
             }
            },
            "type": "scattercarpet"
           }
          ],
          "scattergeo": [
           {
            "marker": {
             "colorbar": {
              "outlinewidth": 0,
              "ticks": ""
             }
            },
            "type": "scattergeo"
           }
          ],
          "scattergl": [
           {
            "marker": {
             "colorbar": {
              "outlinewidth": 0,
              "ticks": ""
             }
            },
            "type": "scattergl"
           }
          ],
          "scattermapbox": [
           {
            "marker": {
             "colorbar": {
              "outlinewidth": 0,
              "ticks": ""
             }
            },
            "type": "scattermapbox"
           }
          ],
          "scatterpolar": [
           {
            "marker": {
             "colorbar": {
              "outlinewidth": 0,
              "ticks": ""
             }
            },
            "type": "scatterpolar"
           }
          ],
          "scatterpolargl": [
           {
            "marker": {
             "colorbar": {
              "outlinewidth": 0,
              "ticks": ""
             }
            },
            "type": "scatterpolargl"
           }
          ],
          "scatterternary": [
           {
            "marker": {
             "colorbar": {
              "outlinewidth": 0,
              "ticks": ""
             }
            },
            "type": "scatterternary"
           }
          ],
          "surface": [
           {
            "colorbar": {
             "outlinewidth": 0,
             "ticks": ""
            },
            "colorscale": [
             [
              0,
              "#0d0887"
             ],
             [
              0.1111111111111111,
              "#46039f"
             ],
             [
              0.2222222222222222,
              "#7201a8"
             ],
             [
              0.3333333333333333,
              "#9c179e"
             ],
             [
              0.4444444444444444,
              "#bd3786"
             ],
             [
              0.5555555555555556,
              "#d8576b"
             ],
             [
              0.6666666666666666,
              "#ed7953"
             ],
             [
              0.7777777777777778,
              "#fb9f3a"
             ],
             [
              0.8888888888888888,
              "#fdca26"
             ],
             [
              1,
              "#f0f921"
             ]
            ],
            "type": "surface"
           }
          ],
          "table": [
           {
            "cells": {
             "fill": {
              "color": "#EBF0F8"
             },
             "line": {
              "color": "white"
             }
            },
            "header": {
             "fill": {
              "color": "#C8D4E3"
             },
             "line": {
              "color": "white"
             }
            },
            "type": "table"
           }
          ]
         },
         "layout": {
          "annotationdefaults": {
           "arrowcolor": "#2a3f5f",
           "arrowhead": 0,
           "arrowwidth": 1
          },
          "autotypenumbers": "strict",
          "coloraxis": {
           "colorbar": {
            "outlinewidth": 0,
            "ticks": ""
           }
          },
          "colorscale": {
           "diverging": [
            [
             0,
             "#8e0152"
            ],
            [
             0.1,
             "#c51b7d"
            ],
            [
             0.2,
             "#de77ae"
            ],
            [
             0.3,
             "#f1b6da"
            ],
            [
             0.4,
             "#fde0ef"
            ],
            [
             0.5,
             "#f7f7f7"
            ],
            [
             0.6,
             "#e6f5d0"
            ],
            [
             0.7,
             "#b8e186"
            ],
            [
             0.8,
             "#7fbc41"
            ],
            [
             0.9,
             "#4d9221"
            ],
            [
             1,
             "#276419"
            ]
           ],
           "sequential": [
            [
             0,
             "#0d0887"
            ],
            [
             0.1111111111111111,
             "#46039f"
            ],
            [
             0.2222222222222222,
             "#7201a8"
            ],
            [
             0.3333333333333333,
             "#9c179e"
            ],
            [
             0.4444444444444444,
             "#bd3786"
            ],
            [
             0.5555555555555556,
             "#d8576b"
            ],
            [
             0.6666666666666666,
             "#ed7953"
            ],
            [
             0.7777777777777778,
             "#fb9f3a"
            ],
            [
             0.8888888888888888,
             "#fdca26"
            ],
            [
             1,
             "#f0f921"
            ]
           ],
           "sequentialminus": [
            [
             0,
             "#0d0887"
            ],
            [
             0.1111111111111111,
             "#46039f"
            ],
            [
             0.2222222222222222,
             "#7201a8"
            ],
            [
             0.3333333333333333,
             "#9c179e"
            ],
            [
             0.4444444444444444,
             "#bd3786"
            ],
            [
             0.5555555555555556,
             "#d8576b"
            ],
            [
             0.6666666666666666,
             "#ed7953"
            ],
            [
             0.7777777777777778,
             "#fb9f3a"
            ],
            [
             0.8888888888888888,
             "#fdca26"
            ],
            [
             1,
             "#f0f921"
            ]
           ]
          },
          "colorway": [
           "#636efa",
           "#EF553B",
           "#00cc96",
           "#ab63fa",
           "#FFA15A",
           "#19d3f3",
           "#FF6692",
           "#B6E880",
           "#FF97FF",
           "#FECB52"
          ],
          "font": {
           "color": "#2a3f5f"
          },
          "geo": {
           "bgcolor": "white",
           "lakecolor": "white",
           "landcolor": "#E5ECF6",
           "showlakes": true,
           "showland": true,
           "subunitcolor": "white"
          },
          "hoverlabel": {
           "align": "left"
          },
          "hovermode": "closest",
          "mapbox": {
           "style": "light"
          },
          "paper_bgcolor": "white",
          "plot_bgcolor": "#E5ECF6",
          "polar": {
           "angularaxis": {
            "gridcolor": "white",
            "linecolor": "white",
            "ticks": ""
           },
           "bgcolor": "#E5ECF6",
           "radialaxis": {
            "gridcolor": "white",
            "linecolor": "white",
            "ticks": ""
           }
          },
          "scene": {
           "xaxis": {
            "backgroundcolor": "#E5ECF6",
            "gridcolor": "white",
            "gridwidth": 2,
            "linecolor": "white",
            "showbackground": true,
            "ticks": "",
            "zerolinecolor": "white"
           },
           "yaxis": {
            "backgroundcolor": "#E5ECF6",
            "gridcolor": "white",
            "gridwidth": 2,
            "linecolor": "white",
            "showbackground": true,
            "ticks": "",
            "zerolinecolor": "white"
           },
           "zaxis": {
            "backgroundcolor": "#E5ECF6",
            "gridcolor": "white",
            "gridwidth": 2,
            "linecolor": "white",
            "showbackground": true,
            "ticks": "",
            "zerolinecolor": "white"
           }
          },
          "shapedefaults": {
           "line": {
            "color": "#2a3f5f"
           }
          },
          "ternary": {
           "aaxis": {
            "gridcolor": "white",
            "linecolor": "white",
            "ticks": ""
           },
           "baxis": {
            "gridcolor": "white",
            "linecolor": "white",
            "ticks": ""
           },
           "bgcolor": "#E5ECF6",
           "caxis": {
            "gridcolor": "white",
            "linecolor": "white",
            "ticks": ""
           }
          },
          "title": {
           "x": 0.05
          },
          "xaxis": {
           "automargin": true,
           "gridcolor": "white",
           "linecolor": "white",
           "ticks": "",
           "title": {
            "standoff": 15
           },
           "zerolinecolor": "white",
           "zerolinewidth": 2
          },
          "yaxis": {
           "automargin": true,
           "gridcolor": "white",
           "linecolor": "white",
           "ticks": "",
           "title": {
            "standoff": 15
           },
           "zerolinecolor": "white",
           "zerolinewidth": 2
          }
         }
        },
        "xaxis": {
         "anchor": "y",
         "domain": [
          0,
          1
         ],
         "title": {
          "text": "$\\lambda~[nm]$"
         }
        },
        "yaxis": {
         "anchor": "x",
         "domain": [
          0,
          1
         ],
         "title": {
          "text": "$Etendue,~Collecting Area~[m^2]~x~FOV~[deg^2]$"
         }
        }
       }
      },
      "text/html": [
       "<div>                            <div id=\"cc15af05-d30a-4be0-bd5f-6d3f42afd5f8\" class=\"plotly-graph-div\" style=\"height:700px; width:100%;\"></div>            <script type=\"text/javascript\">                require([\"plotly\"], function(Plotly) {                    window.PLOTLYENV=window.PLOTLYENV || {};                                    if (document.getElementById(\"cc15af05-d30a-4be0-bd5f-6d3f42afd5f8\")) {                    Plotly.newPlot(                        \"cc15af05-d30a-4be0-bd5f-6d3f42afd5f8\",                        [{\"alignmentgroup\":\"True\",\"customdata\":[[900.0,19.6,18.86]],\"hovertemplate\":\"Instrument=LAMOST<br>WL_MIN_nm=%{x}<br>FOV_deg2=%{customdata[1]:.2f}<br>Collecting_Area_m2=%{customdata[2]:.2f}<extra></extra>\",\"legendgroup\":\"LAMOST\",\"marker\":{\"color\":\"#636efa\",\"pattern\":{\"shape\":\"\"}},\"name\":\"LAMOST\",\"offsetgroup\":\"LAMOST\",\"orientation\":\"h\",\"showlegend\":true,\"textposition\":\"auto\",\"x\":[370.0],\"xaxis\":\"x\",\"y\":[369.66],\"yaxis\":\"y\",\"type\":\"bar\"},{\"alignmentgroup\":\"True\",\"customdata\":[[788.7,3.1,12.0]],\"hovertemplate\":\"Instrument=HERMES<br>WL_MIN_nm=%{x}<br>FOV_deg2=%{customdata[1]:.2f}<br>Collecting_Area_m2=%{customdata[2]:.2f}<extra></extra>\",\"legendgroup\":\"HERMES\",\"marker\":{\"color\":\"#EF553B\",\"pattern\":{\"shape\":\"\"}},\"name\":\"HERMES\",\"offsetgroup\":\"HERMES\",\"orientation\":\"h\",\"showlegend\":true,\"textposition\":\"auto\",\"x\":[471.5],\"xaxis\":\"x\",\"y\":[37.2],\"yaxis\":\"y\",\"type\":\"bar\"},{\"alignmentgroup\":\"True\",\"customdata\":[[1040.0,7.1,3.68],[1710.0,7.1,3.68],[1040.0,3.1,null],[1700.0,3.1,null]],\"hovertemplate\":\"Instrument=SDSS_5_APOGEE+BOSS<br>WL_MIN_nm=%{x}<br>FOV_deg2=%{customdata[1]:.2f}<br>Collecting_Area_m2=%{customdata[2]:.2f}<extra></extra>\",\"legendgroup\":\"SDSS_5_APOGEE+BOSS\",\"marker\":{\"color\":\"#00cc96\",\"pattern\":{\"shape\":\"\"}},\"name\":\"SDSS_5_APOGEE+BOSS\",\"offsetgroup\":\"SDSS_5_APOGEE+BOSS\",\"orientation\":\"h\",\"showlegend\":true,\"textposition\":\"auto\",\"x\":[360.0,1510.0,360.0,1510.0],\"xaxis\":\"x\",\"y\":[26.13,26.13,null,null],\"yaxis\":\"y\",\"type\":\"bar\"},{\"alignmentgroup\":\"True\",\"customdata\":[[656.0,8.0,9.5],[980.0,8.0,9.5]],\"hovertemplate\":\"Instrument=DESI<br>WL_MIN_nm=%{x}<br>FOV_deg2=%{customdata[1]:.2f}<br>Collecting_Area_m2=%{customdata[2]:.2f}<extra></extra>\",\"legendgroup\":\"DESI\",\"marker\":{\"color\":\"#ab63fa\",\"pattern\":{\"shape\":\"\"}},\"name\":\"DESI\",\"offsetgroup\":\"DESI\",\"orientation\":\"h\",\"showlegend\":true,\"textposition\":\"auto\",\"x\":[360.0,656.0],\"xaxis\":\"x\",\"y\":[76.0,76.0],\"yaxis\":\"y\",\"type\":\"bar\"},{\"alignmentgroup\":\"True\",\"customdata\":[[959.0,3.1,13.8],[685.0,3.1,13.8]],\"hovertemplate\":\"Instrument=WEAVE<br>WL_MIN_nm=%{x}<br>FOV_deg2=%{customdata[1]:.2f}<br>Collecting_Area_m2=%{customdata[2]:.2f}<extra></extra>\",\"legendgroup\":\"WEAVE\",\"marker\":{\"color\":\"#FFA15A\",\"pattern\":{\"shape\":\"\"}},\"name\":\"WEAVE\",\"offsetgroup\":\"WEAVE\",\"orientation\":\"h\",\"showlegend\":true,\"textposition\":\"auto\",\"x\":[366.0,404.0],\"xaxis\":\"x\",\"y\":[42.78,42.78],\"yaxis\":\"y\",\"type\":\"bar\"},{\"alignmentgroup\":\"True\",\"customdata\":[[1800.0,0.14,50.0],[1640.0,0.14,50.0]],\"hovertemplate\":\"Instrument=MOONS<br>WL_MIN_nm=%{x}<br>FOV_deg2=%{customdata[1]:.2f}<br>Collecting_Area_m2=%{customdata[2]:.2f}<extra></extra>\",\"legendgroup\":\"MOONS\",\"marker\":{\"color\":\"#19d3f3\",\"pattern\":{\"shape\":\"\"}},\"name\":\"MOONS\",\"offsetgroup\":\"MOONS\",\"orientation\":\"h\",\"showlegend\":true,\"textposition\":\"auto\",\"x\":[650.0,760.0],\"xaxis\":\"x\",\"y\":[7.0,7.0],\"yaxis\":\"y\",\"type\":\"bar\"},{\"alignmentgroup\":\"True\",\"customdata\":[[970.0,1.3,50.0],[1260.0,1.3,50.0]],\"hovertemplate\":\"Instrument=PFS<br>WL_MIN_nm=%{x}<br>FOV_deg2=%{customdata[1]:.2f}<br>Collecting_Area_m2=%{customdata[2]:.2f}<extra></extra>\",\"legendgroup\":\"PFS\",\"marker\":{\"color\":\"#FF6692\",\"pattern\":{\"shape\":\"\"}},\"name\":\"PFS\",\"offsetgroup\":\"PFS\",\"orientation\":\"h\",\"showlegend\":true,\"textposition\":\"auto\",\"x\":[380.0,710.0],\"xaxis\":\"x\",\"y\":[65.0,65.0],\"yaxis\":\"y\",\"type\":\"bar\"},{\"alignmentgroup\":\"True\",\"customdata\":[[950.0,4.4,12.0],[679.0,4.4,12.0]],\"hovertemplate\":\"Instrument=4MOST<br>WL_MIN_nm=%{x}<br>FOV_deg2=%{customdata[1]:.2f}<br>Collecting_Area_m2=%{customdata[2]:.2f}<extra></extra>\",\"legendgroup\":\"4MOST\",\"marker\":{\"color\":\"#B6E880\",\"pattern\":{\"shape\":\"\"}},\"name\":\"4MOST\",\"offsetgroup\":\"4MOST\",\"orientation\":\"h\",\"showlegend\":true,\"textposition\":\"auto\",\"x\":[370.0,392.6],\"xaxis\":\"x\",\"y\":[52.8,52.8],\"yaxis\":\"y\",\"type\":\"bar\"},{\"alignmentgroup\":\"True\",\"customdata\":[[980.0,7.1,28.0]],\"hovertemplate\":\"Instrument=MegaMapper<br>WL_MIN_nm=%{x}<br>FOV_deg2=%{customdata[1]:.2f}<br>Collecting_Area_m2=%{customdata[2]:.2f}<extra></extra>\",\"legendgroup\":\"MegaMapper\",\"marker\":{\"color\":\"#FF97FF\",\"pattern\":{\"shape\":\"\"}},\"name\":\"MegaMapper\",\"offsetgroup\":\"MegaMapper\",\"orientation\":\"h\",\"showlegend\":true,\"textposition\":\"auto\",\"x\":[360.0],\"xaxis\":\"x\",\"y\":[198.8],\"yaxis\":\"y\",\"type\":\"bar\"},{\"alignmentgroup\":\"True\",\"customdata\":[[1800.0,1.5,80.8],[900.0,1.5,80.8]],\"hovertemplate\":\"Instrument=MSE-baseline<br>WL_MIN_nm=%{x}<br>FOV_deg2=%{customdata[1]:.2f}<br>Collecting_Area_m2=%{customdata[2]:.2f}<extra></extra>\",\"legendgroup\":\"MSE-baseline\",\"marker\":{\"color\":\"#FECB52\",\"pattern\":{\"shape\":\"\"}},\"name\":\"MSE-baseline\",\"offsetgroup\":\"MSE-baseline\",\"orientation\":\"h\",\"showlegend\":true,\"textposition\":\"auto\",\"x\":[360.0,360.0],\"xaxis\":\"x\",\"y\":[121.2,121.2],\"yaxis\":\"y\",\"type\":\"bar\"},{\"alignmentgroup\":\"True\",\"customdata\":[[1330.0,4.9,87.9],[1000.0,4.9,87.9]],\"hovertemplate\":\"Instrument=SpecTel/WST<br>WL_MIN_nm=%{x}<br>FOV_deg2=%{customdata[1]:.2f}<br>Collecting_Area_m2=%{customdata[2]:.2f}<extra></extra>\",\"legendgroup\":\"SpecTel/WST\",\"marker\":{\"color\":\"#636efa\",\"pattern\":{\"shape\":\"\"}},\"name\":\"SpecTel/WST\",\"offsetgroup\":\"SpecTel/WST\",\"orientation\":\"h\",\"showlegend\":true,\"textposition\":\"auto\",\"x\":[360.0,360.0],\"xaxis\":\"x\",\"y\":[430.71,430.71],\"yaxis\":\"y\",\"type\":\"bar\"},{\"alignmentgroup\":\"True\",\"customdata\":[[null,9.6,35.3]],\"hovertemplate\":\"Instrument=LSSTspec<br>WL_MIN_nm=%{x}<br>FOV_deg2=%{customdata[1]:.2f}<br>Collecting_Area_m2=%{customdata[2]:.2f}<extra></extra>\",\"legendgroup\":\"LSSTspec\",\"marker\":{\"color\":\"#EF553B\",\"pattern\":{\"shape\":\"\"}},\"name\":\"LSSTspec\",\"offsetgroup\":\"LSSTspec\",\"orientation\":\"h\",\"showlegend\":true,\"textposition\":\"auto\",\"x\":[null],\"xaxis\":\"x\",\"y\":[338.88],\"yaxis\":\"y\",\"type\":\"bar\"},{\"alignmentgroup\":\"True\",\"customdata\":[[1800.0,0.02,978.0],[1800.0,0.02,978.0]],\"hovertemplate\":\"Instrument=MOSAIC<br>WL_MIN_nm=%{x}<br>FOV_deg2=%{customdata[1]:.2f}<br>Collecting_Area_m2=%{customdata[2]:.2f}<extra></extra>\",\"legendgroup\":\"MOSAIC\",\"marker\":{\"color\":\"#00cc96\",\"pattern\":{\"shape\":\"\"}},\"name\":\"MOSAIC\",\"offsetgroup\":\"MOSAIC\",\"orientation\":\"h\",\"showlegend\":true,\"textposition\":\"auto\",\"x\":[450.0,450.0],\"xaxis\":\"x\",\"y\":[19.56,19.56],\"yaxis\":\"y\",\"type\":\"bar\"}],                        {\"template\":{\"data\":{\"bar\":[{\"error_x\":{\"color\":\"#2a3f5f\"},\"error_y\":{\"color\":\"#2a3f5f\"},\"marker\":{\"line\":{\"color\":\"#E5ECF6\",\"width\":0.5},\"pattern\":{\"fillmode\":\"overlay\",\"size\":10,\"solidity\":0.2}},\"type\":\"bar\"}],\"barpolar\":[{\"marker\":{\"line\":{\"color\":\"#E5ECF6\",\"width\":0.5},\"pattern\":{\"fillmode\":\"overlay\",\"size\":10,\"solidity\":0.2}},\"type\":\"barpolar\"}],\"carpet\":[{\"aaxis\":{\"endlinecolor\":\"#2a3f5f\",\"gridcolor\":\"white\",\"linecolor\":\"white\",\"minorgridcolor\":\"white\",\"startlinecolor\":\"#2a3f5f\"},\"baxis\":{\"endlinecolor\":\"#2a3f5f\",\"gridcolor\":\"white\",\"linecolor\":\"white\",\"minorgridcolor\":\"white\",\"startlinecolor\":\"#2a3f5f\"},\"type\":\"carpet\"}],\"choropleth\":[{\"colorbar\":{\"outlinewidth\":0,\"ticks\":\"\"},\"type\":\"choropleth\"}],\"contour\":[{\"colorbar\":{\"outlinewidth\":0,\"ticks\":\"\"},\"colorscale\":[[0.0,\"#0d0887\"],[0.1111111111111111,\"#46039f\"],[0.2222222222222222,\"#7201a8\"],[0.3333333333333333,\"#9c179e\"],[0.4444444444444444,\"#bd3786\"],[0.5555555555555556,\"#d8576b\"],[0.6666666666666666,\"#ed7953\"],[0.7777777777777778,\"#fb9f3a\"],[0.8888888888888888,\"#fdca26\"],[1.0,\"#f0f921\"]],\"type\":\"contour\"}],\"contourcarpet\":[{\"colorbar\":{\"outlinewidth\":0,\"ticks\":\"\"},\"type\":\"contourcarpet\"}],\"heatmap\":[{\"colorbar\":{\"outlinewidth\":0,\"ticks\":\"\"},\"colorscale\":[[0.0,\"#0d0887\"],[0.1111111111111111,\"#46039f\"],[0.2222222222222222,\"#7201a8\"],[0.3333333333333333,\"#9c179e\"],[0.4444444444444444,\"#bd3786\"],[0.5555555555555556,\"#d8576b\"],[0.6666666666666666,\"#ed7953\"],[0.7777777777777778,\"#fb9f3a\"],[0.8888888888888888,\"#fdca26\"],[1.0,\"#f0f921\"]],\"type\":\"heatmap\"}],\"heatmapgl\":[{\"colorbar\":{\"outlinewidth\":0,\"ticks\":\"\"},\"colorscale\":[[0.0,\"#0d0887\"],[0.1111111111111111,\"#46039f\"],[0.2222222222222222,\"#7201a8\"],[0.3333333333333333,\"#9c179e\"],[0.4444444444444444,\"#bd3786\"],[0.5555555555555556,\"#d8576b\"],[0.6666666666666666,\"#ed7953\"],[0.7777777777777778,\"#fb9f3a\"],[0.8888888888888888,\"#fdca26\"],[1.0,\"#f0f921\"]],\"type\":\"heatmapgl\"}],\"histogram\":[{\"marker\":{\"pattern\":{\"fillmode\":\"overlay\",\"size\":10,\"solidity\":0.2}},\"type\":\"histogram\"}],\"histogram2d\":[{\"colorbar\":{\"outlinewidth\":0,\"ticks\":\"\"},\"colorscale\":[[0.0,\"#0d0887\"],[0.1111111111111111,\"#46039f\"],[0.2222222222222222,\"#7201a8\"],[0.3333333333333333,\"#9c179e\"],[0.4444444444444444,\"#bd3786\"],[0.5555555555555556,\"#d8576b\"],[0.6666666666666666,\"#ed7953\"],[0.7777777777777778,\"#fb9f3a\"],[0.8888888888888888,\"#fdca26\"],[1.0,\"#f0f921\"]],\"type\":\"histogram2d\"}],\"histogram2dcontour\":[{\"colorbar\":{\"outlinewidth\":0,\"ticks\":\"\"},\"colorscale\":[[0.0,\"#0d0887\"],[0.1111111111111111,\"#46039f\"],[0.2222222222222222,\"#7201a8\"],[0.3333333333333333,\"#9c179e\"],[0.4444444444444444,\"#bd3786\"],[0.5555555555555556,\"#d8576b\"],[0.6666666666666666,\"#ed7953\"],[0.7777777777777778,\"#fb9f3a\"],[0.8888888888888888,\"#fdca26\"],[1.0,\"#f0f921\"]],\"type\":\"histogram2dcontour\"}],\"mesh3d\":[{\"colorbar\":{\"outlinewidth\":0,\"ticks\":\"\"},\"type\":\"mesh3d\"}],\"parcoords\":[{\"line\":{\"colorbar\":{\"outlinewidth\":0,\"ticks\":\"\"}},\"type\":\"parcoords\"}],\"pie\":[{\"automargin\":true,\"type\":\"pie\"}],\"scatter\":[{\"marker\":{\"colorbar\":{\"outlinewidth\":0,\"ticks\":\"\"}},\"type\":\"scatter\"}],\"scatter3d\":[{\"line\":{\"colorbar\":{\"outlinewidth\":0,\"ticks\":\"\"}},\"marker\":{\"colorbar\":{\"outlinewidth\":0,\"ticks\":\"\"}},\"type\":\"scatter3d\"}],\"scattercarpet\":[{\"marker\":{\"colorbar\":{\"outlinewidth\":0,\"ticks\":\"\"}},\"type\":\"scattercarpet\"}],\"scattergeo\":[{\"marker\":{\"colorbar\":{\"outlinewidth\":0,\"ticks\":\"\"}},\"type\":\"scattergeo\"}],\"scattergl\":[{\"marker\":{\"colorbar\":{\"outlinewidth\":0,\"ticks\":\"\"}},\"type\":\"scattergl\"}],\"scattermapbox\":[{\"marker\":{\"colorbar\":{\"outlinewidth\":0,\"ticks\":\"\"}},\"type\":\"scattermapbox\"}],\"scatterpolar\":[{\"marker\":{\"colorbar\":{\"outlinewidth\":0,\"ticks\":\"\"}},\"type\":\"scatterpolar\"}],\"scatterpolargl\":[{\"marker\":{\"colorbar\":{\"outlinewidth\":0,\"ticks\":\"\"}},\"type\":\"scatterpolargl\"}],\"scatterternary\":[{\"marker\":{\"colorbar\":{\"outlinewidth\":0,\"ticks\":\"\"}},\"type\":\"scatterternary\"}],\"surface\":[{\"colorbar\":{\"outlinewidth\":0,\"ticks\":\"\"},\"colorscale\":[[0.0,\"#0d0887\"],[0.1111111111111111,\"#46039f\"],[0.2222222222222222,\"#7201a8\"],[0.3333333333333333,\"#9c179e\"],[0.4444444444444444,\"#bd3786\"],[0.5555555555555556,\"#d8576b\"],[0.6666666666666666,\"#ed7953\"],[0.7777777777777778,\"#fb9f3a\"],[0.8888888888888888,\"#fdca26\"],[1.0,\"#f0f921\"]],\"type\":\"surface\"}],\"table\":[{\"cells\":{\"fill\":{\"color\":\"#EBF0F8\"},\"line\":{\"color\":\"white\"}},\"header\":{\"fill\":{\"color\":\"#C8D4E3\"},\"line\":{\"color\":\"white\"}},\"type\":\"table\"}]},\"layout\":{\"annotationdefaults\":{\"arrowcolor\":\"#2a3f5f\",\"arrowhead\":0,\"arrowwidth\":1},\"autotypenumbers\":\"strict\",\"coloraxis\":{\"colorbar\":{\"outlinewidth\":0,\"ticks\":\"\"}},\"colorscale\":{\"diverging\":[[0,\"#8e0152\"],[0.1,\"#c51b7d\"],[0.2,\"#de77ae\"],[0.3,\"#f1b6da\"],[0.4,\"#fde0ef\"],[0.5,\"#f7f7f7\"],[0.6,\"#e6f5d0\"],[0.7,\"#b8e186\"],[0.8,\"#7fbc41\"],[0.9,\"#4d9221\"],[1,\"#276419\"]],\"sequential\":[[0.0,\"#0d0887\"],[0.1111111111111111,\"#46039f\"],[0.2222222222222222,\"#7201a8\"],[0.3333333333333333,\"#9c179e\"],[0.4444444444444444,\"#bd3786\"],[0.5555555555555556,\"#d8576b\"],[0.6666666666666666,\"#ed7953\"],[0.7777777777777778,\"#fb9f3a\"],[0.8888888888888888,\"#fdca26\"],[1.0,\"#f0f921\"]],\"sequentialminus\":[[0.0,\"#0d0887\"],[0.1111111111111111,\"#46039f\"],[0.2222222222222222,\"#7201a8\"],[0.3333333333333333,\"#9c179e\"],[0.4444444444444444,\"#bd3786\"],[0.5555555555555556,\"#d8576b\"],[0.6666666666666666,\"#ed7953\"],[0.7777777777777778,\"#fb9f3a\"],[0.8888888888888888,\"#fdca26\"],[1.0,\"#f0f921\"]]},\"colorway\":[\"#636efa\",\"#EF553B\",\"#00cc96\",\"#ab63fa\",\"#FFA15A\",\"#19d3f3\",\"#FF6692\",\"#B6E880\",\"#FF97FF\",\"#FECB52\"],\"font\":{\"color\":\"#2a3f5f\"},\"geo\":{\"bgcolor\":\"white\",\"lakecolor\":\"white\",\"landcolor\":\"#E5ECF6\",\"showlakes\":true,\"showland\":true,\"subunitcolor\":\"white\"},\"hoverlabel\":{\"align\":\"left\"},\"hovermode\":\"closest\",\"mapbox\":{\"style\":\"light\"},\"paper_bgcolor\":\"white\",\"plot_bgcolor\":\"#E5ECF6\",\"polar\":{\"angularaxis\":{\"gridcolor\":\"white\",\"linecolor\":\"white\",\"ticks\":\"\"},\"bgcolor\":\"#E5ECF6\",\"radialaxis\":{\"gridcolor\":\"white\",\"linecolor\":\"white\",\"ticks\":\"\"}},\"scene\":{\"xaxis\":{\"backgroundcolor\":\"#E5ECF6\",\"gridcolor\":\"white\",\"gridwidth\":2,\"linecolor\":\"white\",\"showbackground\":true,\"ticks\":\"\",\"zerolinecolor\":\"white\"},\"yaxis\":{\"backgroundcolor\":\"#E5ECF6\",\"gridcolor\":\"white\",\"gridwidth\":2,\"linecolor\":\"white\",\"showbackground\":true,\"ticks\":\"\",\"zerolinecolor\":\"white\"},\"zaxis\":{\"backgroundcolor\":\"#E5ECF6\",\"gridcolor\":\"white\",\"gridwidth\":2,\"linecolor\":\"white\",\"showbackground\":true,\"ticks\":\"\",\"zerolinecolor\":\"white\"}},\"shapedefaults\":{\"line\":{\"color\":\"#2a3f5f\"}},\"ternary\":{\"aaxis\":{\"gridcolor\":\"white\",\"linecolor\":\"white\",\"ticks\":\"\"},\"baxis\":{\"gridcolor\":\"white\",\"linecolor\":\"white\",\"ticks\":\"\"},\"bgcolor\":\"#E5ECF6\",\"caxis\":{\"gridcolor\":\"white\",\"linecolor\":\"white\",\"ticks\":\"\"}},\"title\":{\"x\":0.05},\"xaxis\":{\"automargin\":true,\"gridcolor\":\"white\",\"linecolor\":\"white\",\"ticks\":\"\",\"title\":{\"standoff\":15},\"zerolinecolor\":\"white\",\"zerolinewidth\":2},\"yaxis\":{\"automargin\":true,\"gridcolor\":\"white\",\"linecolor\":\"white\",\"ticks\":\"\",\"title\":{\"standoff\":15},\"zerolinecolor\":\"white\",\"zerolinewidth\":2}}},\"xaxis\":{\"anchor\":\"y\",\"domain\":[0.0,1.0],\"title\":{\"text\":\"$\\\\lambda~[nm]$\"}},\"yaxis\":{\"anchor\":\"x\",\"domain\":[0.0,1.0],\"title\":{\"text\":\"$Etendue,~Collecting Area~[m^2]~x~FOV~[deg^2]$\"}},\"legend\":{\"title\":{\"text\":\"Instrument\"},\"tracegroupgap\":0},\"margin\":{\"t\":60},\"barmode\":\"relative\",\"height\":700,\"showlegend\":true},                        {\"responsive\": true}                    ).then(function(){\n",
       "                            \n",
       "var gd = document.getElementById('cc15af05-d30a-4be0-bd5f-6d3f42afd5f8');\n",
       "var x = new MutationObserver(function (mutations, observer) {{\n",
       "        var display = window.getComputedStyle(gd).display;\n",
       "        if (!display || display === 'none') {{\n",
       "            console.log([gd, 'removed!']);\n",
       "            Plotly.purge(gd);\n",
       "            observer.disconnect();\n",
       "        }}\n",
       "}});\n",
       "\n",
       "// Listen for the removal of the full notebook cells\n",
       "var notebookContainer = gd.closest('#notebook-container');\n",
       "if (notebookContainer) {{\n",
       "    x.observe(notebookContainer, {childList: true});\n",
       "}}\n",
       "\n",
       "// Listen for the clearing of the current output cell\n",
       "var outputEl = gd.closest('.output');\n",
       "if (outputEl) {{\n",
       "    x.observe(outputEl, {childList: true});\n",
       "}}\n",
       "\n",
       "                        })                };                });            </script>        </div>"
      ]
     },
     "metadata": {},
     "output_type": "display_data"
    }
   ],
   "source": [
    "fig = px.bar(combined_table, x='WL_MIN_nm', y='Etendue', color='Instrument', orientation='h',\n",
    "            hover_data={'WL_MAX_nm':False, 'Etendue':False, 'FOV_deg2':':.2f', 'Collecting_Area_m2':':.2f'}, \n",
    "             height=700).update_layout(xaxis_title=\"$\\lambda~[nm]$\", \n",
    "                                       yaxis_title=\"$Etendue,~Collecting Area~[m^2]~x~FOV~[deg^2]$\", \n",
    "                                       showlegend=True)\n",
    "#fig.update_xaxes(title_text = \"$\\lambda$ [nm]\")\n",
    "fig.show()"
   ]
  },
  {
   "cell_type": "markdown",
   "id": "a51b0c6e",
   "metadata": {},
   "source": [
    "Plotly express does not contain sufficient functionality for the desired custom bar plot.  It is necessary to move to a full Plotly graph object. "
   ]
  },
  {
   "cell_type": "code",
   "execution_count": 20,
   "id": "2fefe920",
   "metadata": {},
   "outputs": [
    {
     "data": {
      "application/vnd.plotly.v1+json": {
       "config": {
        "plotlyServerURL": "https://plot.ly"
       },
       "data": [
        {
         "base": [
          370,
          471.5,
          360,
          1510,
          360,
          1510,
          360,
          656,
          366,
          404,
          650,
          760,
          380,
          710,
          370,
          392.6,
          360,
          360,
          360,
          360,
          360,
          null,
          450,
          450
         ],
         "marker": {
          "color": "steelblue"
         },
         "orientation": "h",
         "type": "bar",
         "x": [
          530,
          317.20000000000005,
          680,
          200,
          680,
          190,
          296,
          324,
          593,
          281,
          1150,
          880,
          590,
          550,
          580,
          286.4,
          620,
          1440,
          540,
          970,
          640,
          null,
          1350,
          1350
         ],
         "y": [
          369.66,
          37.2,
          26.13,
          26.13,
          null,
          null,
          76,
          76,
          42.78,
          42.78,
          7,
          7,
          65,
          65,
          52.8,
          52.8,
          198.8,
          121.2,
          121.2,
          430.71,
          430.71,
          338.88,
          19.56,
          19.56
         ]
        }
       ],
       "layout": {
        "template": {
         "data": {
          "bar": [
           {
            "error_x": {
             "color": "#2a3f5f"
            },
            "error_y": {
             "color": "#2a3f5f"
            },
            "marker": {
             "line": {
              "color": "#E5ECF6",
              "width": 0.5
             },
             "pattern": {
              "fillmode": "overlay",
              "size": 10,
              "solidity": 0.2
             }
            },
            "type": "bar"
           }
          ],
          "barpolar": [
           {
            "marker": {
             "line": {
              "color": "#E5ECF6",
              "width": 0.5
             },
             "pattern": {
              "fillmode": "overlay",
              "size": 10,
              "solidity": 0.2
             }
            },
            "type": "barpolar"
           }
          ],
          "carpet": [
           {
            "aaxis": {
             "endlinecolor": "#2a3f5f",
             "gridcolor": "white",
             "linecolor": "white",
             "minorgridcolor": "white",
             "startlinecolor": "#2a3f5f"
            },
            "baxis": {
             "endlinecolor": "#2a3f5f",
             "gridcolor": "white",
             "linecolor": "white",
             "minorgridcolor": "white",
             "startlinecolor": "#2a3f5f"
            },
            "type": "carpet"
           }
          ],
          "choropleth": [
           {
            "colorbar": {
             "outlinewidth": 0,
             "ticks": ""
            },
            "type": "choropleth"
           }
          ],
          "contour": [
           {
            "colorbar": {
             "outlinewidth": 0,
             "ticks": ""
            },
            "colorscale": [
             [
              0,
              "#0d0887"
             ],
             [
              0.1111111111111111,
              "#46039f"
             ],
             [
              0.2222222222222222,
              "#7201a8"
             ],
             [
              0.3333333333333333,
              "#9c179e"
             ],
             [
              0.4444444444444444,
              "#bd3786"
             ],
             [
              0.5555555555555556,
              "#d8576b"
             ],
             [
              0.6666666666666666,
              "#ed7953"
             ],
             [
              0.7777777777777778,
              "#fb9f3a"
             ],
             [
              0.8888888888888888,
              "#fdca26"
             ],
             [
              1,
              "#f0f921"
             ]
            ],
            "type": "contour"
           }
          ],
          "contourcarpet": [
           {
            "colorbar": {
             "outlinewidth": 0,
             "ticks": ""
            },
            "type": "contourcarpet"
           }
          ],
          "heatmap": [
           {
            "colorbar": {
             "outlinewidth": 0,
             "ticks": ""
            },
            "colorscale": [
             [
              0,
              "#0d0887"
             ],
             [
              0.1111111111111111,
              "#46039f"
             ],
             [
              0.2222222222222222,
              "#7201a8"
             ],
             [
              0.3333333333333333,
              "#9c179e"
             ],
             [
              0.4444444444444444,
              "#bd3786"
             ],
             [
              0.5555555555555556,
              "#d8576b"
             ],
             [
              0.6666666666666666,
              "#ed7953"
             ],
             [
              0.7777777777777778,
              "#fb9f3a"
             ],
             [
              0.8888888888888888,
              "#fdca26"
             ],
             [
              1,
              "#f0f921"
             ]
            ],
            "type": "heatmap"
           }
          ],
          "heatmapgl": [
           {
            "colorbar": {
             "outlinewidth": 0,
             "ticks": ""
            },
            "colorscale": [
             [
              0,
              "#0d0887"
             ],
             [
              0.1111111111111111,
              "#46039f"
             ],
             [
              0.2222222222222222,
              "#7201a8"
             ],
             [
              0.3333333333333333,
              "#9c179e"
             ],
             [
              0.4444444444444444,
              "#bd3786"
             ],
             [
              0.5555555555555556,
              "#d8576b"
             ],
             [
              0.6666666666666666,
              "#ed7953"
             ],
             [
              0.7777777777777778,
              "#fb9f3a"
             ],
             [
              0.8888888888888888,
              "#fdca26"
             ],
             [
              1,
              "#f0f921"
             ]
            ],
            "type": "heatmapgl"
           }
          ],
          "histogram": [
           {
            "marker": {
             "pattern": {
              "fillmode": "overlay",
              "size": 10,
              "solidity": 0.2
             }
            },
            "type": "histogram"
           }
          ],
          "histogram2d": [
           {
            "colorbar": {
             "outlinewidth": 0,
             "ticks": ""
            },
            "colorscale": [
             [
              0,
              "#0d0887"
             ],
             [
              0.1111111111111111,
              "#46039f"
             ],
             [
              0.2222222222222222,
              "#7201a8"
             ],
             [
              0.3333333333333333,
              "#9c179e"
             ],
             [
              0.4444444444444444,
              "#bd3786"
             ],
             [
              0.5555555555555556,
              "#d8576b"
             ],
             [
              0.6666666666666666,
              "#ed7953"
             ],
             [
              0.7777777777777778,
              "#fb9f3a"
             ],
             [
              0.8888888888888888,
              "#fdca26"
             ],
             [
              1,
              "#f0f921"
             ]
            ],
            "type": "histogram2d"
           }
          ],
          "histogram2dcontour": [
           {
            "colorbar": {
             "outlinewidth": 0,
             "ticks": ""
            },
            "colorscale": [
             [
              0,
              "#0d0887"
             ],
             [
              0.1111111111111111,
              "#46039f"
             ],
             [
              0.2222222222222222,
              "#7201a8"
             ],
             [
              0.3333333333333333,
              "#9c179e"
             ],
             [
              0.4444444444444444,
              "#bd3786"
             ],
             [
              0.5555555555555556,
              "#d8576b"
             ],
             [
              0.6666666666666666,
              "#ed7953"
             ],
             [
              0.7777777777777778,
              "#fb9f3a"
             ],
             [
              0.8888888888888888,
              "#fdca26"
             ],
             [
              1,
              "#f0f921"
             ]
            ],
            "type": "histogram2dcontour"
           }
          ],
          "mesh3d": [
           {
            "colorbar": {
             "outlinewidth": 0,
             "ticks": ""
            },
            "type": "mesh3d"
           }
          ],
          "parcoords": [
           {
            "line": {
             "colorbar": {
              "outlinewidth": 0,
              "ticks": ""
             }
            },
            "type": "parcoords"
           }
          ],
          "pie": [
           {
            "automargin": true,
            "type": "pie"
           }
          ],
          "scatter": [
           {
            "marker": {
             "colorbar": {
              "outlinewidth": 0,
              "ticks": ""
             }
            },
            "type": "scatter"
           }
          ],
          "scatter3d": [
           {
            "line": {
             "colorbar": {
              "outlinewidth": 0,
              "ticks": ""
             }
            },
            "marker": {
             "colorbar": {
              "outlinewidth": 0,
              "ticks": ""
             }
            },
            "type": "scatter3d"
           }
          ],
          "scattercarpet": [
           {
            "marker": {
             "colorbar": {
              "outlinewidth": 0,
              "ticks": ""
             }
            },
            "type": "scattercarpet"
           }
          ],
          "scattergeo": [
           {
            "marker": {
             "colorbar": {
              "outlinewidth": 0,
              "ticks": ""
             }
            },
            "type": "scattergeo"
           }
          ],
          "scattergl": [
           {
            "marker": {
             "colorbar": {
              "outlinewidth": 0,
              "ticks": ""
             }
            },
            "type": "scattergl"
           }
          ],
          "scattermapbox": [
           {
            "marker": {
             "colorbar": {
              "outlinewidth": 0,
              "ticks": ""
             }
            },
            "type": "scattermapbox"
           }
          ],
          "scatterpolar": [
           {
            "marker": {
             "colorbar": {
              "outlinewidth": 0,
              "ticks": ""
             }
            },
            "type": "scatterpolar"
           }
          ],
          "scatterpolargl": [
           {
            "marker": {
             "colorbar": {
              "outlinewidth": 0,
              "ticks": ""
             }
            },
            "type": "scatterpolargl"
           }
          ],
          "scatterternary": [
           {
            "marker": {
             "colorbar": {
              "outlinewidth": 0,
              "ticks": ""
             }
            },
            "type": "scatterternary"
           }
          ],
          "surface": [
           {
            "colorbar": {
             "outlinewidth": 0,
             "ticks": ""
            },
            "colorscale": [
             [
              0,
              "#0d0887"
             ],
             [
              0.1111111111111111,
              "#46039f"
             ],
             [
              0.2222222222222222,
              "#7201a8"
             ],
             [
              0.3333333333333333,
              "#9c179e"
             ],
             [
              0.4444444444444444,
              "#bd3786"
             ],
             [
              0.5555555555555556,
              "#d8576b"
             ],
             [
              0.6666666666666666,
              "#ed7953"
             ],
             [
              0.7777777777777778,
              "#fb9f3a"
             ],
             [
              0.8888888888888888,
              "#fdca26"
             ],
             [
              1,
              "#f0f921"
             ]
            ],
            "type": "surface"
           }
          ],
          "table": [
           {
            "cells": {
             "fill": {
              "color": "#EBF0F8"
             },
             "line": {
              "color": "white"
             }
            },
            "header": {
             "fill": {
              "color": "#C8D4E3"
             },
             "line": {
              "color": "white"
             }
            },
            "type": "table"
           }
          ]
         },
         "layout": {
          "annotationdefaults": {
           "arrowcolor": "#2a3f5f",
           "arrowhead": 0,
           "arrowwidth": 1
          },
          "autotypenumbers": "strict",
          "coloraxis": {
           "colorbar": {
            "outlinewidth": 0,
            "ticks": ""
           }
          },
          "colorscale": {
           "diverging": [
            [
             0,
             "#8e0152"
            ],
            [
             0.1,
             "#c51b7d"
            ],
            [
             0.2,
             "#de77ae"
            ],
            [
             0.3,
             "#f1b6da"
            ],
            [
             0.4,
             "#fde0ef"
            ],
            [
             0.5,
             "#f7f7f7"
            ],
            [
             0.6,
             "#e6f5d0"
            ],
            [
             0.7,
             "#b8e186"
            ],
            [
             0.8,
             "#7fbc41"
            ],
            [
             0.9,
             "#4d9221"
            ],
            [
             1,
             "#276419"
            ]
           ],
           "sequential": [
            [
             0,
             "#0d0887"
            ],
            [
             0.1111111111111111,
             "#46039f"
            ],
            [
             0.2222222222222222,
             "#7201a8"
            ],
            [
             0.3333333333333333,
             "#9c179e"
            ],
            [
             0.4444444444444444,
             "#bd3786"
            ],
            [
             0.5555555555555556,
             "#d8576b"
            ],
            [
             0.6666666666666666,
             "#ed7953"
            ],
            [
             0.7777777777777778,
             "#fb9f3a"
            ],
            [
             0.8888888888888888,
             "#fdca26"
            ],
            [
             1,
             "#f0f921"
            ]
           ],
           "sequentialminus": [
            [
             0,
             "#0d0887"
            ],
            [
             0.1111111111111111,
             "#46039f"
            ],
            [
             0.2222222222222222,
             "#7201a8"
            ],
            [
             0.3333333333333333,
             "#9c179e"
            ],
            [
             0.4444444444444444,
             "#bd3786"
            ],
            [
             0.5555555555555556,
             "#d8576b"
            ],
            [
             0.6666666666666666,
             "#ed7953"
            ],
            [
             0.7777777777777778,
             "#fb9f3a"
            ],
            [
             0.8888888888888888,
             "#fdca26"
            ],
            [
             1,
             "#f0f921"
            ]
           ]
          },
          "colorway": [
           "#636efa",
           "#EF553B",
           "#00cc96",
           "#ab63fa",
           "#FFA15A",
           "#19d3f3",
           "#FF6692",
           "#B6E880",
           "#FF97FF",
           "#FECB52"
          ],
          "font": {
           "color": "#2a3f5f"
          },
          "geo": {
           "bgcolor": "white",
           "lakecolor": "white",
           "landcolor": "#E5ECF6",
           "showlakes": true,
           "showland": true,
           "subunitcolor": "white"
          },
          "hoverlabel": {
           "align": "left"
          },
          "hovermode": "closest",
          "mapbox": {
           "style": "light"
          },
          "paper_bgcolor": "white",
          "plot_bgcolor": "#E5ECF6",
          "polar": {
           "angularaxis": {
            "gridcolor": "white",
            "linecolor": "white",
            "ticks": ""
           },
           "bgcolor": "#E5ECF6",
           "radialaxis": {
            "gridcolor": "white",
            "linecolor": "white",
            "ticks": ""
           }
          },
          "scene": {
           "xaxis": {
            "backgroundcolor": "#E5ECF6",
            "gridcolor": "white",
            "gridwidth": 2,
            "linecolor": "white",
            "showbackground": true,
            "ticks": "",
            "zerolinecolor": "white"
           },
           "yaxis": {
            "backgroundcolor": "#E5ECF6",
            "gridcolor": "white",
            "gridwidth": 2,
            "linecolor": "white",
            "showbackground": true,
            "ticks": "",
            "zerolinecolor": "white"
           },
           "zaxis": {
            "backgroundcolor": "#E5ECF6",
            "gridcolor": "white",
            "gridwidth": 2,
            "linecolor": "white",
            "showbackground": true,
            "ticks": "",
            "zerolinecolor": "white"
           }
          },
          "shapedefaults": {
           "line": {
            "color": "#2a3f5f"
           }
          },
          "ternary": {
           "aaxis": {
            "gridcolor": "white",
            "linecolor": "white",
            "ticks": ""
           },
           "baxis": {
            "gridcolor": "white",
            "linecolor": "white",
            "ticks": ""
           },
           "bgcolor": "#E5ECF6",
           "caxis": {
            "gridcolor": "white",
            "linecolor": "white",
            "ticks": ""
           }
          },
          "title": {
           "x": 0.05
          },
          "xaxis": {
           "automargin": true,
           "gridcolor": "white",
           "linecolor": "white",
           "ticks": "",
           "title": {
            "standoff": 15
           },
           "zerolinecolor": "white",
           "zerolinewidth": 2
          },
          "yaxis": {
           "automargin": true,
           "gridcolor": "white",
           "linecolor": "white",
           "ticks": "",
           "title": {
            "standoff": 15
           },
           "zerolinecolor": "white",
           "zerolinewidth": 2
          }
         }
        },
        "xaxis": {
         "title": {
          "text": "$\\lambda~[nm]$"
         }
        },
        "yaxis": {
         "title": {
          "text": "$Etendue,~Collecting Area~[m^2]~x~FOV~[deg^2]$"
         }
        }
       }
      },
      "text/html": [
       "<div>                            <div id=\"64ab0815-1206-40d5-9d5d-cc9fa989c87e\" class=\"plotly-graph-div\" style=\"height:525px; width:100%;\"></div>            <script type=\"text/javascript\">                require([\"plotly\"], function(Plotly) {                    window.PLOTLYENV=window.PLOTLYENV || {};                                    if (document.getElementById(\"64ab0815-1206-40d5-9d5d-cc9fa989c87e\")) {                    Plotly.newPlot(                        \"64ab0815-1206-40d5-9d5d-cc9fa989c87e\",                        [{\"base\":[370.0,471.5,360.0,1510.0,360.0,1510.0,360.0,656.0,366.0,404.0,650.0,760.0,380.0,710.0,370.0,392.6,360.0,360.0,360.0,360.0,360.0,null,450.0,450.0],\"marker\":{\"color\":\"steelblue\"},\"orientation\":\"h\",\"x\":[530.0,317.20000000000005,680.0,200.0,680.0,190.0,296.0,324.0,593.0,281.0,1150.0,880.0,590.0,550.0,580.0,286.4,620.0,1440.0,540.0,970.0,640.0,null,1350.0,1350.0],\"y\":[369.66,37.2,26.13,26.13,null,null,76.0,76.0,42.78,42.78,7.0,7.0,65.0,65.0,52.8,52.8,198.8,121.2,121.2,430.71,430.71,338.88,19.56,19.56],\"type\":\"bar\"}],                        {\"template\":{\"data\":{\"bar\":[{\"error_x\":{\"color\":\"#2a3f5f\"},\"error_y\":{\"color\":\"#2a3f5f\"},\"marker\":{\"line\":{\"color\":\"#E5ECF6\",\"width\":0.5},\"pattern\":{\"fillmode\":\"overlay\",\"size\":10,\"solidity\":0.2}},\"type\":\"bar\"}],\"barpolar\":[{\"marker\":{\"line\":{\"color\":\"#E5ECF6\",\"width\":0.5},\"pattern\":{\"fillmode\":\"overlay\",\"size\":10,\"solidity\":0.2}},\"type\":\"barpolar\"}],\"carpet\":[{\"aaxis\":{\"endlinecolor\":\"#2a3f5f\",\"gridcolor\":\"white\",\"linecolor\":\"white\",\"minorgridcolor\":\"white\",\"startlinecolor\":\"#2a3f5f\"},\"baxis\":{\"endlinecolor\":\"#2a3f5f\",\"gridcolor\":\"white\",\"linecolor\":\"white\",\"minorgridcolor\":\"white\",\"startlinecolor\":\"#2a3f5f\"},\"type\":\"carpet\"}],\"choropleth\":[{\"colorbar\":{\"outlinewidth\":0,\"ticks\":\"\"},\"type\":\"choropleth\"}],\"contour\":[{\"colorbar\":{\"outlinewidth\":0,\"ticks\":\"\"},\"colorscale\":[[0.0,\"#0d0887\"],[0.1111111111111111,\"#46039f\"],[0.2222222222222222,\"#7201a8\"],[0.3333333333333333,\"#9c179e\"],[0.4444444444444444,\"#bd3786\"],[0.5555555555555556,\"#d8576b\"],[0.6666666666666666,\"#ed7953\"],[0.7777777777777778,\"#fb9f3a\"],[0.8888888888888888,\"#fdca26\"],[1.0,\"#f0f921\"]],\"type\":\"contour\"}],\"contourcarpet\":[{\"colorbar\":{\"outlinewidth\":0,\"ticks\":\"\"},\"type\":\"contourcarpet\"}],\"heatmap\":[{\"colorbar\":{\"outlinewidth\":0,\"ticks\":\"\"},\"colorscale\":[[0.0,\"#0d0887\"],[0.1111111111111111,\"#46039f\"],[0.2222222222222222,\"#7201a8\"],[0.3333333333333333,\"#9c179e\"],[0.4444444444444444,\"#bd3786\"],[0.5555555555555556,\"#d8576b\"],[0.6666666666666666,\"#ed7953\"],[0.7777777777777778,\"#fb9f3a\"],[0.8888888888888888,\"#fdca26\"],[1.0,\"#f0f921\"]],\"type\":\"heatmap\"}],\"heatmapgl\":[{\"colorbar\":{\"outlinewidth\":0,\"ticks\":\"\"},\"colorscale\":[[0.0,\"#0d0887\"],[0.1111111111111111,\"#46039f\"],[0.2222222222222222,\"#7201a8\"],[0.3333333333333333,\"#9c179e\"],[0.4444444444444444,\"#bd3786\"],[0.5555555555555556,\"#d8576b\"],[0.6666666666666666,\"#ed7953\"],[0.7777777777777778,\"#fb9f3a\"],[0.8888888888888888,\"#fdca26\"],[1.0,\"#f0f921\"]],\"type\":\"heatmapgl\"}],\"histogram\":[{\"marker\":{\"pattern\":{\"fillmode\":\"overlay\",\"size\":10,\"solidity\":0.2}},\"type\":\"histogram\"}],\"histogram2d\":[{\"colorbar\":{\"outlinewidth\":0,\"ticks\":\"\"},\"colorscale\":[[0.0,\"#0d0887\"],[0.1111111111111111,\"#46039f\"],[0.2222222222222222,\"#7201a8\"],[0.3333333333333333,\"#9c179e\"],[0.4444444444444444,\"#bd3786\"],[0.5555555555555556,\"#d8576b\"],[0.6666666666666666,\"#ed7953\"],[0.7777777777777778,\"#fb9f3a\"],[0.8888888888888888,\"#fdca26\"],[1.0,\"#f0f921\"]],\"type\":\"histogram2d\"}],\"histogram2dcontour\":[{\"colorbar\":{\"outlinewidth\":0,\"ticks\":\"\"},\"colorscale\":[[0.0,\"#0d0887\"],[0.1111111111111111,\"#46039f\"],[0.2222222222222222,\"#7201a8\"],[0.3333333333333333,\"#9c179e\"],[0.4444444444444444,\"#bd3786\"],[0.5555555555555556,\"#d8576b\"],[0.6666666666666666,\"#ed7953\"],[0.7777777777777778,\"#fb9f3a\"],[0.8888888888888888,\"#fdca26\"],[1.0,\"#f0f921\"]],\"type\":\"histogram2dcontour\"}],\"mesh3d\":[{\"colorbar\":{\"outlinewidth\":0,\"ticks\":\"\"},\"type\":\"mesh3d\"}],\"parcoords\":[{\"line\":{\"colorbar\":{\"outlinewidth\":0,\"ticks\":\"\"}},\"type\":\"parcoords\"}],\"pie\":[{\"automargin\":true,\"type\":\"pie\"}],\"scatter\":[{\"marker\":{\"colorbar\":{\"outlinewidth\":0,\"ticks\":\"\"}},\"type\":\"scatter\"}],\"scatter3d\":[{\"line\":{\"colorbar\":{\"outlinewidth\":0,\"ticks\":\"\"}},\"marker\":{\"colorbar\":{\"outlinewidth\":0,\"ticks\":\"\"}},\"type\":\"scatter3d\"}],\"scattercarpet\":[{\"marker\":{\"colorbar\":{\"outlinewidth\":0,\"ticks\":\"\"}},\"type\":\"scattercarpet\"}],\"scattergeo\":[{\"marker\":{\"colorbar\":{\"outlinewidth\":0,\"ticks\":\"\"}},\"type\":\"scattergeo\"}],\"scattergl\":[{\"marker\":{\"colorbar\":{\"outlinewidth\":0,\"ticks\":\"\"}},\"type\":\"scattergl\"}],\"scattermapbox\":[{\"marker\":{\"colorbar\":{\"outlinewidth\":0,\"ticks\":\"\"}},\"type\":\"scattermapbox\"}],\"scatterpolar\":[{\"marker\":{\"colorbar\":{\"outlinewidth\":0,\"ticks\":\"\"}},\"type\":\"scatterpolar\"}],\"scatterpolargl\":[{\"marker\":{\"colorbar\":{\"outlinewidth\":0,\"ticks\":\"\"}},\"type\":\"scatterpolargl\"}],\"scatterternary\":[{\"marker\":{\"colorbar\":{\"outlinewidth\":0,\"ticks\":\"\"}},\"type\":\"scatterternary\"}],\"surface\":[{\"colorbar\":{\"outlinewidth\":0,\"ticks\":\"\"},\"colorscale\":[[0.0,\"#0d0887\"],[0.1111111111111111,\"#46039f\"],[0.2222222222222222,\"#7201a8\"],[0.3333333333333333,\"#9c179e\"],[0.4444444444444444,\"#bd3786\"],[0.5555555555555556,\"#d8576b\"],[0.6666666666666666,\"#ed7953\"],[0.7777777777777778,\"#fb9f3a\"],[0.8888888888888888,\"#fdca26\"],[1.0,\"#f0f921\"]],\"type\":\"surface\"}],\"table\":[{\"cells\":{\"fill\":{\"color\":\"#EBF0F8\"},\"line\":{\"color\":\"white\"}},\"header\":{\"fill\":{\"color\":\"#C8D4E3\"},\"line\":{\"color\":\"white\"}},\"type\":\"table\"}]},\"layout\":{\"annotationdefaults\":{\"arrowcolor\":\"#2a3f5f\",\"arrowhead\":0,\"arrowwidth\":1},\"autotypenumbers\":\"strict\",\"coloraxis\":{\"colorbar\":{\"outlinewidth\":0,\"ticks\":\"\"}},\"colorscale\":{\"diverging\":[[0,\"#8e0152\"],[0.1,\"#c51b7d\"],[0.2,\"#de77ae\"],[0.3,\"#f1b6da\"],[0.4,\"#fde0ef\"],[0.5,\"#f7f7f7\"],[0.6,\"#e6f5d0\"],[0.7,\"#b8e186\"],[0.8,\"#7fbc41\"],[0.9,\"#4d9221\"],[1,\"#276419\"]],\"sequential\":[[0.0,\"#0d0887\"],[0.1111111111111111,\"#46039f\"],[0.2222222222222222,\"#7201a8\"],[0.3333333333333333,\"#9c179e\"],[0.4444444444444444,\"#bd3786\"],[0.5555555555555556,\"#d8576b\"],[0.6666666666666666,\"#ed7953\"],[0.7777777777777778,\"#fb9f3a\"],[0.8888888888888888,\"#fdca26\"],[1.0,\"#f0f921\"]],\"sequentialminus\":[[0.0,\"#0d0887\"],[0.1111111111111111,\"#46039f\"],[0.2222222222222222,\"#7201a8\"],[0.3333333333333333,\"#9c179e\"],[0.4444444444444444,\"#bd3786\"],[0.5555555555555556,\"#d8576b\"],[0.6666666666666666,\"#ed7953\"],[0.7777777777777778,\"#fb9f3a\"],[0.8888888888888888,\"#fdca26\"],[1.0,\"#f0f921\"]]},\"colorway\":[\"#636efa\",\"#EF553B\",\"#00cc96\",\"#ab63fa\",\"#FFA15A\",\"#19d3f3\",\"#FF6692\",\"#B6E880\",\"#FF97FF\",\"#FECB52\"],\"font\":{\"color\":\"#2a3f5f\"},\"geo\":{\"bgcolor\":\"white\",\"lakecolor\":\"white\",\"landcolor\":\"#E5ECF6\",\"showlakes\":true,\"showland\":true,\"subunitcolor\":\"white\"},\"hoverlabel\":{\"align\":\"left\"},\"hovermode\":\"closest\",\"mapbox\":{\"style\":\"light\"},\"paper_bgcolor\":\"white\",\"plot_bgcolor\":\"#E5ECF6\",\"polar\":{\"angularaxis\":{\"gridcolor\":\"white\",\"linecolor\":\"white\",\"ticks\":\"\"},\"bgcolor\":\"#E5ECF6\",\"radialaxis\":{\"gridcolor\":\"white\",\"linecolor\":\"white\",\"ticks\":\"\"}},\"scene\":{\"xaxis\":{\"backgroundcolor\":\"#E5ECF6\",\"gridcolor\":\"white\",\"gridwidth\":2,\"linecolor\":\"white\",\"showbackground\":true,\"ticks\":\"\",\"zerolinecolor\":\"white\"},\"yaxis\":{\"backgroundcolor\":\"#E5ECF6\",\"gridcolor\":\"white\",\"gridwidth\":2,\"linecolor\":\"white\",\"showbackground\":true,\"ticks\":\"\",\"zerolinecolor\":\"white\"},\"zaxis\":{\"backgroundcolor\":\"#E5ECF6\",\"gridcolor\":\"white\",\"gridwidth\":2,\"linecolor\":\"white\",\"showbackground\":true,\"ticks\":\"\",\"zerolinecolor\":\"white\"}},\"shapedefaults\":{\"line\":{\"color\":\"#2a3f5f\"}},\"ternary\":{\"aaxis\":{\"gridcolor\":\"white\",\"linecolor\":\"white\",\"ticks\":\"\"},\"baxis\":{\"gridcolor\":\"white\",\"linecolor\":\"white\",\"ticks\":\"\"},\"bgcolor\":\"#E5ECF6\",\"caxis\":{\"gridcolor\":\"white\",\"linecolor\":\"white\",\"ticks\":\"\"}},\"title\":{\"x\":0.05},\"xaxis\":{\"automargin\":true,\"gridcolor\":\"white\",\"linecolor\":\"white\",\"ticks\":\"\",\"title\":{\"standoff\":15},\"zerolinecolor\":\"white\",\"zerolinewidth\":2},\"yaxis\":{\"automargin\":true,\"gridcolor\":\"white\",\"linecolor\":\"white\",\"ticks\":\"\",\"title\":{\"standoff\":15},\"zerolinecolor\":\"white\",\"zerolinewidth\":2}}},\"xaxis\":{\"title\":{\"text\":\"$\\\\lambda~[nm]$\"}},\"yaxis\":{\"title\":{\"text\":\"$Etendue,~Collecting Area~[m^2]~x~FOV~[deg^2]$\"}}},                        {\"responsive\": true}                    ).then(function(){\n",
       "                            \n",
       "var gd = document.getElementById('64ab0815-1206-40d5-9d5d-cc9fa989c87e');\n",
       "var x = new MutationObserver(function (mutations, observer) {{\n",
       "        var display = window.getComputedStyle(gd).display;\n",
       "        if (!display || display === 'none') {{\n",
       "            console.log([gd, 'removed!']);\n",
       "            Plotly.purge(gd);\n",
       "            observer.disconnect();\n",
       "        }}\n",
       "}});\n",
       "\n",
       "// Listen for the removal of the full notebook cells\n",
       "var notebookContainer = gd.closest('#notebook-container');\n",
       "if (notebookContainer) {{\n",
       "    x.observe(notebookContainer, {childList: true});\n",
       "}}\n",
       "\n",
       "// Listen for the clearing of the current output cell\n",
       "var outputEl = gd.closest('.output');\n",
       "if (outputEl) {{\n",
       "    x.observe(outputEl, {childList: true});\n",
       "}}\n",
       "\n",
       "                        })                };                });            </script>        </div>"
      ]
     },
     "metadata": {},
     "output_type": "display_data"
    }
   ],
   "source": [
    "combined_table['height'] = combined_table['WL_MAX_nm'] - combined_table['WL_MIN_nm']\n",
    "fig = go.Figure(go.Bar(\n",
    "            x=combined_table['height'],\n",
    "            y=combined_table['Etendue'],\n",
    "            base = combined_table['WL_MIN_nm'],\n",
    "            orientation='h', marker_color='steelblue'))\n",
    "#fig = go.Figure()\n",
    "#fig.add_trace(go.Bar(x=combined_table['WL_MIN_nm'], y=combined_table['Etendue'],\n",
    "#                base=combined_table['height'], orientation='h'))\n",
    "fig.update_xaxes(title_text = \"$\\lambda~[nm]$\")\n",
    "fig.update_yaxes(title_text = \"$Etendue,~Collecting Area~[m^2]~x~FOV~[deg^2]$\")\n",
    "fig.show()\n",
    "#fig.show(\"notebook\")\n",
    "#fig.show(\"svg\")"
   ]
  },
  {
   "cell_type": "code",
   "execution_count": null,
   "id": "9d3080b4",
   "metadata": {},
   "outputs": [],
   "source": []
  }
 ],
 "metadata": {
  "kernelspec": {
   "display_name": "Python 3 (ipykernel)",
   "language": "python",
   "name": "python3"
  },
  "language_info": {
   "codemirror_mode": {
    "name": "ipython",
    "version": 3
   },
   "file_extension": ".py",
   "mimetype": "text/x-python",
   "name": "python",
   "nbconvert_exporter": "python",
   "pygments_lexer": "ipython3",
   "version": "3.10.3"
  }
 },
 "nbformat": 4,
 "nbformat_minor": 5
}
